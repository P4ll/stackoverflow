{
 "cells": [
  {
   "cell_type": "code",
   "execution_count": null,
   "metadata": {
    "colab": {
     "base_uri": "https://localhost:8080/",
     "height": 51
    },
    "colab_type": "code",
    "id": "3OiL0jOsgz-K",
    "outputId": "15f40a00-b83d-4835-e046-b73e2d98639c"
   },
   "outputs": [],
   "source": [
    "import pandas as pd\n",
    "import numpy as np\n",
    "import gensim\n",
    "import nltk\n",
    "import logging\n",
    "\n",
    "from gensim.utils import simple_preprocess\n",
    "from gensim.parsing.preprocessing import STOPWORDS\n",
    "from gensim import corpora, models\n",
    "from gensim.test.utils import datapath\n",
    "\n",
    "from nltk.stem import WordNetLemmatizer, SnowballStemmer\n",
    "from nltk.stem.porter import *\n",
    "\n",
    "np.random.seed(2020)\n",
    "\n",
    "nltk.download('wordnet')\n",
    "stemmer = SnowballStemmer('english')\n",
    "\n",
    "logging.basicConfig(format='%(asctime)s : %(levelname)s : %(message)s', level=logging.INFO)"
   ]
  },
  {
   "cell_type": "code",
   "execution_count": null,
   "metadata": {
    "colab": {
     "base_uri": "https://localhost:8080/",
     "height": 34
    },
    "colab_type": "code",
    "id": "3kIzozcMhHTP",
    "outputId": "904dd257-86fb-4c2e-9e71-da68c0c747d3"
   },
   "outputs": [],
   "source": [
    "from google.colab import drive\n",
    "drive.mount('/content/drive')"
   ]
  },
  {
   "cell_type": "code",
   "execution_count": 0,
   "metadata": {
    "colab": {},
    "colab_type": "code",
    "id": "UB7q_mxrhDw0"
   },
   "outputs": [],
   "source": [
    "def clear_text(text):\n",
    "    text = re.sub('<code>(.|\\n)*?<\\/code>', '', text)\n",
    "    text = re.sub(r'(\\<(/?[^>]+)>)', '', text)\n",
    "    return text\n",
    "\n",
    "def lemmatize_stemming(text):\n",
    "    return stemmer.stem(WordNetLemmatizer().lemmatize(text, pos='v'))\n",
    "\n",
    "def preprocess(text):\n",
    "    text = clear_text(text)\n",
    "    result = []\n",
    "    for token in gensim.utils.simple_preprocess(text):\n",
    "        if token not in gensim.parsing.preprocessing.STOPWORDS and len(token) > 3:\n",
    "            result.append(lemmatize_stemming(token))\n",
    "    return result"
   ]
  },
  {
   "cell_type": "code",
   "execution_count": 0,
   "metadata": {
    "colab": {
     "base_uri": "https://localhost:8080/",
     "height": 142
    },
    "colab_type": "code",
    "id": "tQEthxRchMmU",
    "outputId": "080487fc-3014-43d4-81fc-68be0b8da1fc"
   },
   "outputs": [
    {
     "data": {
      "text/html": [
       "<div>\n",
       "<style scoped>\n",
       "    .dataframe tbody tr th:only-of-type {\n",
       "        vertical-align: middle;\n",
       "    }\n",
       "\n",
       "    .dataframe tbody tr th {\n",
       "        vertical-align: top;\n",
       "    }\n",
       "\n",
       "    .dataframe thead th {\n",
       "        text-align: right;\n",
       "    }\n",
       "</style>\n",
       "<table border=\"1\" class=\"dataframe\">\n",
       "  <thead>\n",
       "    <tr style=\"text-align: right;\">\n",
       "      <th></th>\n",
       "      <th>id_post</th>\n",
       "      <th>post_tags</th>\n",
       "      <th>post_title</th>\n",
       "      <th>post_body</th>\n",
       "    </tr>\n",
       "  </thead>\n",
       "  <tbody>\n",
       "    <tr>\n",
       "      <th>0</th>\n",
       "      <td>48153978</td>\n",
       "      <td>neo4j|cypher|liquigraph</td>\n",
       "      <td>Neo4j Cypher LiquiGraph - make migration scrip...</td>\n",
       "      <td>&lt;p&gt;I have created the following LiquiGraph mig...</td>\n",
       "    </tr>\n",
       "    <tr>\n",
       "      <th>1</th>\n",
       "      <td>48182021</td>\n",
       "      <td>android|flashlight</td>\n",
       "      <td>flash light wont turn on / camera error</td>\n",
       "      <td>&lt;p&gt;hi i was looking around flashlight app sour...</td>\n",
       "    </tr>\n",
       "    <tr>\n",
       "      <th>2</th>\n",
       "      <td>48183972</td>\n",
       "      <td>javascript|jquery|jquery-ui-autocomplete</td>\n",
       "      <td>Autocomplete function fires before minLength v...</td>\n",
       "      <td>&lt;p&gt;I'm writing autocomplete function that shou...</td>\n",
       "    </tr>\n",
       "  </tbody>\n",
       "</table>\n",
       "</div>"
      ],
      "text/plain": [
       "    id_post  ...                                          post_body\n",
       "0  48153978  ...  <p>I have created the following LiquiGraph mig...\n",
       "1  48182021  ...  <p>hi i was looking around flashlight app sour...\n",
       "2  48183972  ...  <p>I'm writing autocomplete function that shou...\n",
       "\n",
       "[3 rows x 4 columns]"
      ]
     },
     "execution_count": 11,
     "metadata": {
      "tags": []
     },
     "output_type": "execute_result"
    }
   ],
   "source": [
    "data = pd.read_csv('/content/drive/My Drive/Дипломная работа/dataset/large_data.csv', low_memory=True)\n",
    "data = data[:len(data.index) // 2]\n",
    "data.head(3)"
   ]
  },
  {
   "cell_type": "code",
   "execution_count": 0,
   "metadata": {
    "colab": {
     "base_uri": "https://localhost:8080/",
     "height": 139
    },
    "colab_type": "code",
    "id": "rG9j3nsUhVsB",
    "outputId": "cb8924ac-3940-4d61-d086-664fd420e268"
   },
   "outputs": [
    {
     "name": "stdout",
     "output_type": "stream",
     "text": [
      "original document: \n",
      "['<p>After', 'mounting', 'the', 'database', 'I', 'tried', 'executing', 'these', 'command-', 'alter', 'database', 'open;', 'emanating', 'from', 'a', 'shutdown', 'initialization', 'error', 'but', 'my', 'oracle', 'kept', 'returning', 'an', 'ORA-00600:', 'internal', 'error', 'code,', 'arguments', '[dbkif_find_next_record_1],', '[],', '[],', '[].\\nPlease,', 'how', 'do', 'I', 'proceed', 'from', 'here?</p>']\n",
      "\n",
      "\n",
      " tokenized and lemmatized document: \n",
      "['mount', 'databas', 'tri', 'execut', 'command', 'alter', 'databas', 'open', 'eman', 'shutdown', 'initi', 'error', 'oracl', 'keep', 'return', 'intern', 'error', 'code', 'argument', 'proceed']\n"
     ]
    }
   ],
   "source": [
    "doc_sample = data.loc[3, 'post_body']\n",
    "\n",
    "print('original document: ')\n",
    "words = []\n",
    "for word in doc_sample.split(' '):\n",
    "    words.append(word)\n",
    "print(words)\n",
    "print('\\n\\n tokenized and lemmatized document: ')\n",
    "print(preprocess(doc_sample))"
   ]
  },
  {
   "cell_type": "code",
   "execution_count": 0,
   "metadata": {
    "colab": {},
    "colab_type": "code",
    "id": "uliEq64Whb0q"
   },
   "outputs": [],
   "source": [
    "data['post_body'] = data['post_body'].map(preprocess)\n",
    "data['post_title'] = data['post_title'].map(preprocess)"
   ]
  },
  {
   "cell_type": "code",
   "execution_count": 0,
   "metadata": {
    "colab": {},
    "colab_type": "code",
    "id": "hDRI4jECEi60"
   },
   "outputs": [],
   "source": [
    "data.to_csv('/content/drive/My Drive/Дипломная работа/dd.csv', index=False)"
   ]
  },
  {
   "cell_type": "code",
   "execution_count": 0,
   "metadata": {
    "colab": {},
    "colab_type": "code",
    "id": "-KVIQ5Bmhe0q"
   },
   "outputs": [],
   "source": [
    "processed_docs = data['post_body']\n",
    "processed_docs = processed_docs.append(data['post_title'], ignore_index=True)\n",
    "len(processed_docs)"
   ]
  },
  {
   "cell_type": "code",
   "execution_count": 0,
   "metadata": {
    "colab": {},
    "colab_type": "code",
    "id": "nTcKo0eGhm-I"
   },
   "outputs": [],
   "source": [
    "dictionary = gensim.corpora.Dictionary(processed_docs)\n",
    "dictionary.filter_extremes(no_below=50, no_above=0.6, keep_n=300000)\n",
    "\n",
    "bow_corpus = [dictionary.doc2bow(doc) for doc in processed_docs]\n",
    "\n",
    "tfidf = models.TfidfModel(bow_corpus)\n",
    "corpus_tfidf = tfidf[bow_corpus]"
   ]
  },
  {
   "cell_type": "code",
   "execution_count": 0,
   "metadata": {
    "colab": {},
    "colab_type": "code",
    "id": "c_6IILoXhucS"
   },
   "outputs": [],
   "source": [
    "lda_model_tfidf = gensim.models.LdaModel(corpus_tfidf, num_topics=200, id2word=dictionary, passes=2, workers=2)"
   ]
  },
  {
   "cell_type": "code",
   "execution_count": 0,
   "metadata": {
    "colab": {},
    "colab_type": "code",
    "id": "ybSMgggihw69"
   },
   "outputs": [],
   "source": [
    "for idx, topic in lda_model_tfidf.print_topics(5):\n",
    "    print('Topic: {} Word: {}'.format(idx, topic))"
   ]
  },
  {
   "cell_type": "code",
   "execution_count": 0,
   "metadata": {
    "colab": {},
    "colab_type": "code",
    "id": "4oLCVqOdh1DJ"
   },
   "outputs": [],
   "source": [
    "temp_file = datapath(\"/content/drive/My Drive/Дипломная работа/models/large_data/model\")\n",
    "lda_model_tfidf.save(temp_file)"
   ]
  },
  {
   "cell_type": "code",
   "execution_count": 0,
   "metadata": {
    "colab": {},
    "colab_type": "code",
    "id": "GDjCkgptiS_6"
   },
   "outputs": [],
   "source": [
    "# Test accuracy"
   ]
  }
 ],
 "metadata": {
  "colab": {
   "name": "lda_large.ipynb",
   "provenance": []
  },
  "kernelspec": {
   "display_name": "Python 3",
   "language": "python",
   "name": "python3"
  },
  "language_info": {
   "codemirror_mode": {
    "name": "ipython",
    "version": 3
   },
   "file_extension": ".py",
   "mimetype": "text/x-python",
   "name": "python",
   "nbconvert_exporter": "python",
   "pygments_lexer": "ipython3",
   "version": "3.7.6"
  }
 },
 "nbformat": 4,
 "nbformat_minor": 1
}
