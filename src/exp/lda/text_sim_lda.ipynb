{
 "cells": [
  {
   "cell_type": "code",
   "execution_count": null,
   "metadata": {
    "colab": {
     "base_uri": "https://localhost:8080/",
     "height": 51
    },
    "colab_type": "code",
    "id": "3OiL0jOsgz-K",
    "outputId": "b5437aa0-a669-4eea-ac81-a02b3c8acd8e"
   },
   "outputs": [],
   "source": [
    "import pandas as pd\n",
    "import numpy as np\n",
    "import gensim\n",
    "import nltk\n",
    "import logging\n",
    "import pickle\n",
    "\n",
    "from gensim.utils import simple_preprocess\n",
    "from gensim.parsing.preprocessing import STOPWORDS\n",
    "from gensim.models.coherencemodel import CoherenceModel\n",
    "from gensim import corpora, models\n",
    "from gensim.test.utils import datapath\n",
    "\n",
    "from nltk.stem import WordNetLemmatizer, SnowballStemmer\n",
    "from nltk.stem.porter import *\n",
    "from scipy.stats import entropy\n",
    "\n",
    "np.random.seed(2020)\n",
    "\n",
    "nltk.download('wordnet')\n",
    "stemmer = SnowballStemmer('english')\n",
    "\n",
    "# logging.basicConfig(format='%(asctime)s : %(levelname)s : %(message)s', level=logging.INFO)\n",
    "base_path = \"D:/work/stackoverflow\"\n",
    "base_model = base_path + \"/models/\"\n",
    "base_dataset = base_path + \"/dataset/\""
   ]
  },
  {
   "cell_type": "code",
   "execution_count": null,
   "metadata": {
    "colab": {
     "base_uri": "https://localhost:8080/",
     "height": 51
    },
    "colab_type": "code",
    "id": "wcdN1pwdbm3m",
    "outputId": "e8dcba90-b2bb-4906-b0e2-548c90c89d68"
   },
   "outputs": [],
   "source": [
    "processed_docs = pd.Series()\n",
    "for i in range(1, 2):\n",
    "  processed_docs = processed_docs.append(pd.read_pickle(f\"{base_dataset}/proc_docs{i}.ser\"), ignore_index=True)"
   ]
  },
  {
   "cell_type": "code",
   "execution_count": null,
   "metadata": {
    "colab": {
     "base_uri": "https://localhost:8080/",
     "height": 136
    },
    "colab_type": "code",
    "id": "v4MGf84wbm-2",
    "outputId": "e0f5e0cd-f413-41aa-c0db-4f221ed9de7e"
   },
   "outputs": [],
   "source": [
    "print(len(processed_docs.index))\n",
    "print(processed_docs[:5])"
   ]
  },
  {
   "cell_type": "code",
   "execution_count": 5,
   "metadata": {
    "colab": {
     "base_uri": "https://localhost:8080/",
     "height": 85
    },
    "colab_type": "code",
    "id": "nTcKo0eGhm-I",
    "outputId": "f798226e-7e38-44a2-c345-cc0f7688ad10"
   },
   "outputs": [
    {
     "name": "stdout",
     "output_type": "stream",
     "text": [
      "Dictionary(64490 unique tokens: ['add', 'check', 'constraint', 'creat', 'creation']...)\n",
      "<class 'list'>\n",
      "<class 'gensim.models.tfidfmodel.TfidfModel'>\n",
      "<class 'gensim.interfaces.TransformedCorpus'>\n"
     ]
    }
   ],
   "source": [
    "dictionary = gensim.corpora.Dictionary(processed_docs)\n",
    "dictionary.filter_extremes(no_above=0.4, keep_n=300000)\n",
    "# dictionary.filter_extremes(no_below=30, no_above=0.6, keep_n=300000)\n",
    "\n",
    "bow_corpus = [dictionary.doc2bow(doc) for doc in processed_docs]\n",
    "\n",
    "tfidf = models.TfidfModel(bow_corpus)\n",
    "corpus_tfidf = tfidf[bow_corpus]\n",
    "print(dictionary)\n",
    "print(type(bow_corpus))\n",
    "print(type(tfidf))\n",
    "print(type(corpus_tfidf))"
   ]
  },
  {
   "cell_type": "code",
   "execution_count": 6,
   "metadata": {
    "colab": {
     "base_uri": "https://localhost:8080/",
     "height": 71
    },
    "colab_type": "code",
    "id": "84PKd6KPNDzp",
    "outputId": "a231e3bd-915c-4b3a-f72d-91024e21182c"
   },
   "outputs": [
    {
     "name": "stderr",
     "output_type": "stream",
     "text": [
      "/usr/local/lib/python3.6/dist-packages/smart_open/smart_open_lib.py:253: UserWarning: This function is deprecated, use smart_open.open instead. See the migration notes for details: https://github.com/RaRe-Technologies/smart_open/blob/master/README.rst#migrating-to-the-new-open-function\n",
      "  'See the migration notes for details: %s' % _MIGRATION_NOTES_URL\n"
     ]
    }
   ],
   "source": [
    "lda_model_tfidf = gensim.models.LdaModel.load(datapath(f\"{base_model}lda/model_100n\"))"
   ]
  },
  {
   "cell_type": "code",
   "execution_count": 0,
   "metadata": {
    "colab": {},
    "colab_type": "code",
    "id": "RMYvpLCgrqPC"
   },
   "outputs": [],
   "source": [
    "def jensen_shannon(query, matrix):\n",
    "    \"\"\"\n",
    "    This function implements a Jensen-Shannon similarity\n",
    "    between the input query (an LDA topic distribution for a document)\n",
    "    and the entire corpus of topic distributions.\n",
    "    It returns an array of length M where M is the number of documents in the corpus\n",
    "    \"\"\"\n",
    "    # lets keep with the p,q notation above\n",
    "    p = query[None,:].T # take transpose\n",
    "    q = matrix.T # transpose matrix\n",
    "\n",
    "    new = np.zeros((q.shape[0], q.shape[1]))\n",
    "    new[:q.shape[0], :1] = p\n",
    "    p = new\n",
    "    \n",
    "    m = 0.5*(p + q)\n",
    "    return np.sqrt(0.5*(entropy(p,m) + entropy(q,m)))\n",
    "\n",
    "def get_most_similar_documents(query,matrix,k=10):\n",
    "    \"\"\"\n",
    "    This function implements the Jensen-Shannon distance above\n",
    "    and retruns the top k indices of the smallest jensen shannon distances\n",
    "    \"\"\"\n",
    "    sims = jensen_shannon(query,matrix) # list of jensen shannon distances\n",
    "    return sims.argsort()[:k] # the top k positional index of the smallest Jensen Shannon distances\n",
    "\n",
    "def clear_text(text):\n",
    "    text = re.sub('<code>(.|\\n)*?<\\/code>', '', text)\n",
    "    text = re.sub(r'(\\<(/?[^>]+)>)', '', text)\n",
    "    return text\n",
    "\n",
    "def lemmatize_stemming(text):\n",
    "    return stemmer.stem(WordNetLemmatizer().lemmatize(text, pos='v'))\n",
    "\n",
    "def preprocess(text):\n",
    "    text = clear_text(text)\n",
    "    result = []\n",
    "    for token in gensim.utils.simple_preprocess(text):\n",
    "        if token not in gensim.parsing.preprocessing.STOPWORDS and len(token) > 3:\n",
    "            result.append(lemmatize_stemming(token))\n",
    "    return result"
   ]
  },
  {
   "cell_type": "code",
   "execution_count": 0,
   "metadata": {
    "colab": {
     "base_uri": "https://localhost:8080/",
     "height": 51
    },
    "colab_type": "code",
    "id": "6n0X4_W2si3G",
    "outputId": "6a9dbd05-f671-470a-c1ad-37bd3feebb78"
   },
   "outputs": [
    {
     "name": "stdout",
     "output_type": "stream",
     "text": [
      "CPU times: user 4 µs, sys: 1e+03 ns, total: 5 µs\n",
      "Wall time: 6.91 µs\n"
     ]
    }
   ],
   "source": [
    "% time\n",
    "doc_topic_dist = np.zeros((len(lda_model_tfidf[corpus_tfidf]), lda_model_tfidf.num_topics))\n",
    "for row, doc in enumerate(lda_model_tfidf[corpus_tfidf]):\n",
    "  for word in doc:\n",
    "    doc_topic_dist[row][word[0]] = word[1]\n",
    "to_save = doc_topic_dist.tolist()\n",
    "pickle.dump(f\"{base_model}doc_topic_dist\")\n",
    "del to_save\n",
    "# doc_topic_dist = np.array([[tup[1] for tup in lst] for lst in lda_model_tfidf[corpus_tfidf]])\n",
    "doc_topic_dist.shape"
   ]
  },
  {
   "cell_type": "code",
   "execution_count": 0,
   "metadata": {
    "colab": {},
    "colab_type": "code",
    "id": "tIzTGX7E_lIo"
   },
   "outputs": [],
   "source": []
  },
  {
   "cell_type": "code",
   "execution_count": 0,
   "metadata": {
    "colab": {},
    "colab_type": "code",
    "id": "CFmxKs-Br_sY"
   },
   "outputs": [],
   "source": [
    "% time\n",
    "unseen_document = \"\"\"I have an external (to the component), observable object that I want to listen for changes on. When the object is updated it emits change events, and then I want to rerender the component when any change is detected.\n",
    "\n",
    "With a top-level React.render this has been possible, but within a component it doesn't work (which makes some sense since the render method just returns an object).\n",
    "\n",
    "Here's a code example:\"\"\"\n",
    "new_bow = dictionary.doc2bow(preprocess(unseen_document))\n",
    "new_tfidf = tfidf[new_bow]\n",
    "new_doc_distribution = np.zeros(lda_model_tfidf.num_topics)\n",
    "for tup in lda_model_tfidf.get_document_topics(bow=new_tfidf):\n",
    "  new_doc_distribution[tup[0]] = tup[1]\n",
    "# new_doc_distribution = np.array([tup[1] for tup in lda_model_tfidf.get_document_topics(bow=new_tfidf)])"
   ]
  },
  {
   "cell_type": "code",
   "execution_count": 0,
   "metadata": {
    "colab": {},
    "colab_type": "code",
    "id": "1sDQUV5YvIGb"
   },
   "outputs": [],
   "source": [
    "new_doc_distribution.shape"
   ]
  },
  {
   "cell_type": "code",
   "execution_count": 0,
   "metadata": {
    "colab": {
     "base_uri": "https://localhost:8080/",
     "height": 425
    },
    "colab_type": "code",
    "id": "53O4VhS3ryoh",
    "outputId": "352974d3-320b-44ac-b90d-990b1a121ed8"
   },
   "outputs": [
    {
     "ename": "TypeError",
     "evalue": "ignored",
     "output_type": "error",
     "traceback": [
      "\u001b[0;31m---------------------------------------------------------------------------\u001b[0m",
      "\u001b[0;31mTypeError\u001b[0m                                 Traceback (most recent call last)",
      "\u001b[0;32m<ipython-input-50-99ef5c2cfdec>\u001b[0m in \u001b[0;36m<module>\u001b[0;34m()\u001b[0m\n\u001b[0;32m----> 1\u001b[0;31m \u001b[0mmost_sim_ids\u001b[0m \u001b[0;34m=\u001b[0m \u001b[0mget_most_similar_documents\u001b[0m\u001b[0;34m(\u001b[0m\u001b[0mnew_doc_distribution\u001b[0m\u001b[0;34m,\u001b[0m \u001b[0mdoc_topic_dist\u001b[0m\u001b[0;34m)\u001b[0m\u001b[0;34m\u001b[0m\u001b[0;34m\u001b[0m\u001b[0m\n\u001b[0m",
      "\u001b[0;32m<ipython-input-44-7040d5589e77>\u001b[0m in \u001b[0;36mget_most_similar_documents\u001b[0;34m(query, matrix, k)\u001b[0m\n\u001b[1;32m     18\u001b[0m     \u001b[0;32mand\u001b[0m \u001b[0mretruns\u001b[0m \u001b[0mthe\u001b[0m \u001b[0mtop\u001b[0m \u001b[0mk\u001b[0m \u001b[0mindices\u001b[0m \u001b[0mof\u001b[0m \u001b[0mthe\u001b[0m \u001b[0msmallest\u001b[0m \u001b[0mjensen\u001b[0m \u001b[0mshannon\u001b[0m \u001b[0mdistances\u001b[0m\u001b[0;34m\u001b[0m\u001b[0;34m\u001b[0m\u001b[0m\n\u001b[1;32m     19\u001b[0m     \"\"\"\n\u001b[0;32m---> 20\u001b[0;31m     \u001b[0msims\u001b[0m \u001b[0;34m=\u001b[0m \u001b[0mjensen_shannon\u001b[0m\u001b[0;34m(\u001b[0m\u001b[0mquery\u001b[0m\u001b[0;34m,\u001b[0m\u001b[0mmatrix\u001b[0m\u001b[0;34m)\u001b[0m \u001b[0;31m# list of jensen shannon distances\u001b[0m\u001b[0;34m\u001b[0m\u001b[0;34m\u001b[0m\u001b[0m\n\u001b[0m\u001b[1;32m     21\u001b[0m     \u001b[0;32mreturn\u001b[0m \u001b[0msims\u001b[0m\u001b[0;34m.\u001b[0m\u001b[0margsort\u001b[0m\u001b[0;34m(\u001b[0m\u001b[0;34m)\u001b[0m\u001b[0;34m[\u001b[0m\u001b[0;34m:\u001b[0m\u001b[0mk\u001b[0m\u001b[0;34m]\u001b[0m \u001b[0;31m# the top k positional index of the smallest Jensen Shannon distances\u001b[0m\u001b[0;34m\u001b[0m\u001b[0;34m\u001b[0m\u001b[0m\n\u001b[1;32m     22\u001b[0m \u001b[0;34m\u001b[0m\u001b[0m\n",
      "\u001b[0;32m<ipython-input-44-7040d5589e77>\u001b[0m in \u001b[0;36mjensen_shannon\u001b[0;34m(query, matrix)\u001b[0m\n\u001b[1;32m     10\u001b[0m     \u001b[0mp\u001b[0m \u001b[0;34m=\u001b[0m \u001b[0mquery\u001b[0m\u001b[0;34m[\u001b[0m\u001b[0;32mNone\u001b[0m\u001b[0;34m,\u001b[0m\u001b[0;34m:\u001b[0m\u001b[0;34m]\u001b[0m\u001b[0;34m.\u001b[0m\u001b[0mT\u001b[0m \u001b[0;31m# take transpose\u001b[0m\u001b[0;34m\u001b[0m\u001b[0;34m\u001b[0m\u001b[0m\n\u001b[1;32m     11\u001b[0m     \u001b[0mq\u001b[0m \u001b[0;34m=\u001b[0m \u001b[0mmatrix\u001b[0m\u001b[0;34m.\u001b[0m\u001b[0mT\u001b[0m \u001b[0;31m# transpose matrix\u001b[0m\u001b[0;34m\u001b[0m\u001b[0;34m\u001b[0m\u001b[0m\n\u001b[0;32m---> 12\u001b[0;31m     \u001b[0mm\u001b[0m \u001b[0;34m=\u001b[0m \u001b[0;36m0.5\u001b[0m\u001b[0;34m*\u001b[0m\u001b[0;34m(\u001b[0m\u001b[0mp\u001b[0m \u001b[0;34m+\u001b[0m \u001b[0mq\u001b[0m\u001b[0;34m)\u001b[0m\u001b[0;34m\u001b[0m\u001b[0;34m\u001b[0m\u001b[0m\n\u001b[0m\u001b[1;32m     13\u001b[0m     \u001b[0;32mreturn\u001b[0m \u001b[0mnp\u001b[0m\u001b[0;34m.\u001b[0m\u001b[0msqrt\u001b[0m\u001b[0;34m(\u001b[0m\u001b[0;36m0.5\u001b[0m\u001b[0;34m*\u001b[0m\u001b[0;34m(\u001b[0m\u001b[0mentropy\u001b[0m\u001b[0;34m(\u001b[0m\u001b[0mp\u001b[0m\u001b[0;34m,\u001b[0m\u001b[0mm\u001b[0m\u001b[0;34m)\u001b[0m \u001b[0;34m+\u001b[0m \u001b[0mentropy\u001b[0m\u001b[0;34m(\u001b[0m\u001b[0mq\u001b[0m\u001b[0;34m,\u001b[0m\u001b[0mm\u001b[0m\u001b[0;34m)\u001b[0m\u001b[0;34m)\u001b[0m\u001b[0;34m)\u001b[0m\u001b[0;34m\u001b[0m\u001b[0;34m\u001b[0m\u001b[0m\n\u001b[1;32m     14\u001b[0m \u001b[0;34m\u001b[0m\u001b[0m\n",
      "\u001b[0;31mTypeError\u001b[0m: unsupported operand type(s) for +: 'float' and 'list'"
     ]
    }
   ],
   "source": [
    "most_sim_ids = get_most_similar_documents(new_doc_distribution, doc_topic_dist)"
   ]
  },
  {
   "cell_type": "code",
   "execution_count": 0,
   "metadata": {
    "colab": {
     "base_uri": "https://localhost:8080/",
     "height": 85
    },
    "colab_type": "code",
    "id": "E1RQU75PQc7R",
    "outputId": "ee815920-0d58-4873-e783-48223967f66c"
   },
   "outputs": [
    {
     "name": "stdout",
     "output_type": "stream",
     "text": [
      "Score: 0.27649393677711487\t Topic: 0.313*\"react\" + 0.148*\"nativ\" + 0.048*\"context\" + 0.043*\"constructor\" + 0.034*\"compon\"\t index 54\n",
      "Score: 0.21279887855052948\t Topic: 0.143*\"templat\" + 0.100*\"extern\" + 0.064*\"config\" + 0.062*\"direct\" + 0.056*\"overrid\"\t index 87\n",
      "Score: 0.20730245113372803\t Topic: 0.176*\"extract\" + 0.065*\"featur\" + 0.060*\"scale\" + 0.049*\"extend\" + 0.041*\"backend\"\t index 47\n",
      "Score: 0.16626188158988953\t Topic: 0.147*\"hide\" + 0.117*\"block\" + 0.097*\"kotlin\" + 0.065*\"schedul\" + 0.064*\"upgrad\"\t index 15\n"
     ]
    }
   ],
   "source": [
    "unseen_document = \"\"\"Can you force a React component to rerender without calling setState?\"\"\"\n",
    "bow_vector = dictionary.doc2bow(preprocess(unseen_document))\n",
    "for index, score in sorted(lda_model_tfidf[bow_vector], key=lambda tup: -1*tup[1]):\n",
    "    print(\"Score: {}\\t Topic: {}\\t index {}\".format(score, lda_model_tfidf.print_topic(index, 5), index))"
   ]
  },
  {
   "cell_type": "code",
   "execution_count": 0,
   "metadata": {
    "colab": {
     "base_uri": "https://localhost:8080/",
     "height": 170
    },
    "colab_type": "code",
    "id": "41gOpHO4REib",
    "outputId": "ad8be4cd-87d6-43d4-c01a-698cb585d226"
   },
   "outputs": [
    {
     "name": "stdout",
     "output_type": "stream",
     "text": [
      "Score: 0.4310450553894043\t Topic: 0.102*\"render\" + 0.091*\"state\" + 0.082*\"ionic\" + 0.071*\"xamarin\" + 0.061*\"compon\"\t index 72\n",
      "Score: 0.107362762093544\t Topic: 0.201*\"firebas\" + 0.089*\"retriev\" + 0.067*\"socket\" + 0.067*\"drop\" + 0.053*\"databas\"\t index 11\n",
      "Score: 0.09919276833534241\t Topic: 0.143*\"templat\" + 0.100*\"extern\" + 0.064*\"config\" + 0.062*\"direct\" + 0.056*\"overrid\"\t index 87\n",
      "Score: 0.07991326600313187\t Topic: 0.114*\"join\" + 0.093*\"rail\" + 0.091*\"selenium\" + 0.063*\"syntax\" + 0.059*\"sqlite\"\t index 67\n",
      "Score: 0.07872338593006134\t Topic: 0.133*\"event\" + 0.108*\"handl\" + 0.080*\"stream\" + 0.079*\"stop\" + 0.068*\"materi\"\t index 2\n",
      "Score: 0.059320658445358276\t Topic: 0.131*\"download\" + 0.117*\"detect\" + 0.074*\"widget\" + 0.062*\"opencv\" + 0.051*\"privat\"\t index 71\n",
      "Score: 0.04913027584552765\t Topic: 0.145*\"argument\" + 0.087*\"miss\" + 0.078*\"specifi\" + 0.069*\"level\" + 0.044*\"foreach\"\t index 85\n",
      "Score: 0.04315628856420517\t Topic: 0.165*\"jqueri\" + 0.123*\"charact\" + 0.081*\"invalid\" + 0.067*\"uniqu\" + 0.061*\"observ\"\t index 82\n",
      "Score: 0.02371806651353836\t Topic: 0.090*\"websocket\" + 0.078*\"youtub\" + 0.076*\"channel\" + 0.075*\"groupbi\" + 0.063*\"subscrib\"\t index 73\n"
     ]
    }
   ],
   "source": [
    "unseen_document = \"\"\"I have an external (to the component), observable object that I want to listen for changes on. When the object is updated it emits change events, and then I want to rerender the component when any change is detected.\n",
    "\n",
    "With a top-level React.render this has been possible, but within a component it doesn't work (which makes some sense since the render method just returns an object).\n",
    "\n",
    "Here's a code example:\"\"\"\n",
    "bow_vector = dictionary.doc2bow(preprocess(unseen_document))\n",
    "for index, score in sorted(lda_model_tfidf[bow_vector], key=lambda tup: -1*tup[1]):\n",
    "    print(\"Score: {}\\t Topic: {}\\t index {}\".format(score, lda_model_tfidf.print_topic(index, 5), index))"
   ]
  }
 ],
 "metadata": {
  "colab": {
   "name": "text_sim_lda.ipynb",
   "provenance": []
  },
  "kernelspec": {
   "display_name": "Python 3",
   "language": "python",
   "name": "python3"
  },
  "language_info": {
   "codemirror_mode": {
    "name": "ipython",
    "version": 3
   },
   "file_extension": ".py",
   "mimetype": "text/x-python",
   "name": "python",
   "nbconvert_exporter": "python",
   "pygments_lexer": "ipython3",
   "version": "3.6.9"
  }
 },
 "nbformat": 4,
 "nbformat_minor": 1
}
