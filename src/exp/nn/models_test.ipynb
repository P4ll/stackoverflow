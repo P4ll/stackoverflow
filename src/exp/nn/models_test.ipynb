{
 "cells": [
  {
   "cell_type": "code",
   "execution_count": 1,
   "metadata": {},
   "outputs": [
    {
     "name": "stderr",
     "output_type": "stream",
     "text": [
      "Using TensorFlow backend.\n"
     ]
    }
   ],
   "source": [
    "%matplotlib inline\n",
    "import matplotlib\n",
    "import matplotlib.pyplot as plt\n",
    "\n",
    "import numpy as np\n",
    "import pandas as pd\n",
    "import sklearn as skl\n",
    "\n",
    "from keras.models import Sequential\n",
    "from keras.optimizers import SGD, RMSprop, Adam\n",
    "from keras.layers import Dense, Activation, Dropout\n",
    "\n",
    "from sklearn.metrics import average_precision_score, mean_squared_error\n",
    "from sklearn.preprocessing import normalize\n",
    "from sklearn.model_selection import train_test_split\n",
    "\n",
    "from sklearn.linear_model import LogisticRegression\n",
    "\n",
    "import xgboost as xgb\n",
    "\n",
    "from keras.utils import plot_model\n",
    "from IPython.display import SVG\n",
    "from keras.utils.vis_utils import model_to_dot\n",
    "\n",
    "base_path = \"d:/work/stackoverflow/\"\n",
    "base_path_nn = base_path + \"exp/nn/\""
   ]
  },
  {
   "cell_type": "code",
   "execution_count": 2,
   "metadata": {},
   "outputs": [
    {
     "data": {
      "text/plain": [
       "['/device:GPU:0']"
      ]
     },
     "execution_count": 2,
     "metadata": {},
     "output_type": "execute_result"
    }
   ],
   "source": [
    "from keras import backend as K\n",
    "K.tensorflow_backend._get_available_gpus()"
   ]
  },
  {
   "cell_type": "code",
   "execution_count": 28,
   "metadata": {},
   "outputs": [],
   "source": [
    "def data_divider(data, per=0.5, shuffle=True):\n",
    "    if shuffle:\n",
    "        data = data.sample(frac=1).reset_index(drop=True)\n",
    "    rr = round(len(data.index) * per)\n",
    "    return data[:rr], data[rr:]\n",
    "\n",
    "def get_norms(ser):\n",
    "    return normalize(ser[:,np.newaxis], axis=0).ravel()"
   ]
  },
  {
   "cell_type": "code",
   "execution_count": 29,
   "metadata": {},
   "outputs": [
    {
     "data": {
      "text/html": [
       "<div>\n",
       "<style scoped>\n",
       "    .dataframe tbody tr th:only-of-type {\n",
       "        vertical-align: middle;\n",
       "    }\n",
       "\n",
       "    .dataframe tbody tr th {\n",
       "        vertical-align: top;\n",
       "    }\n",
       "\n",
       "    .dataframe thead th {\n",
       "        text-align: right;\n",
       "    }\n",
       "</style>\n",
       "<table border=\"1\" class=\"dataframe\">\n",
       "  <thead>\n",
       "    <tr style=\"text-align: right;\">\n",
       "      <th></th>\n",
       "      <th>ans_count</th>\n",
       "      <th>questions_count</th>\n",
       "      <th>reached_people</th>\n",
       "      <th>user_rating</th>\n",
       "      <th>debug_inf</th>\n",
       "      <th>title_overlap</th>\n",
       "      <th>post_type</th>\n",
       "    </tr>\n",
       "  </thead>\n",
       "  <tbody>\n",
       "    <tr>\n",
       "      <th>0</th>\n",
       "      <td>0.000000</td>\n",
       "      <td>0.000695</td>\n",
       "      <td>3.625327e-06</td>\n",
       "      <td>19</td>\n",
       "      <td>0</td>\n",
       "      <td>0.010583</td>\n",
       "      <td>1</td>\n",
       "    </tr>\n",
       "    <tr>\n",
       "      <th>1</th>\n",
       "      <td>0.000000</td>\n",
       "      <td>0.000174</td>\n",
       "      <td>1.611256e-06</td>\n",
       "      <td>1</td>\n",
       "      <td>0</td>\n",
       "      <td>0.000000</td>\n",
       "      <td>0</td>\n",
       "    </tr>\n",
       "    <tr>\n",
       "      <th>2</th>\n",
       "      <td>0.000000</td>\n",
       "      <td>0.000087</td>\n",
       "      <td>5.572261e-07</td>\n",
       "      <td>1</td>\n",
       "      <td>0</td>\n",
       "      <td>0.009629</td>\n",
       "      <td>1</td>\n",
       "    </tr>\n",
       "    <tr>\n",
       "      <th>3</th>\n",
       "      <td>0.000081</td>\n",
       "      <td>0.000348</td>\n",
       "      <td>3.645467e-06</td>\n",
       "      <td>9</td>\n",
       "      <td>0</td>\n",
       "      <td>0.005835</td>\n",
       "      <td>1</td>\n",
       "    </tr>\n",
       "    <tr>\n",
       "      <th>4</th>\n",
       "      <td>0.000040</td>\n",
       "      <td>0.004780</td>\n",
       "      <td>7.586332e-04</td>\n",
       "      <td>725</td>\n",
       "      <td>0</td>\n",
       "      <td>0.010160</td>\n",
       "      <td>1</td>\n",
       "    </tr>\n",
       "  </tbody>\n",
       "</table>\n",
       "</div>"
      ],
      "text/plain": [
       "   ans_count  questions_count  reached_people  user_rating  debug_inf  \\\n",
       "0   0.000000         0.000695    3.625327e-06           19          0   \n",
       "1   0.000000         0.000174    1.611256e-06            1          0   \n",
       "2   0.000000         0.000087    5.572261e-07            1          0   \n",
       "3   0.000081         0.000348    3.645467e-06            9          0   \n",
       "4   0.000040         0.004780    7.586332e-04          725          0   \n",
       "\n",
       "   title_overlap  post_type  \n",
       "0       0.010583          1  \n",
       "1       0.000000          0  \n",
       "2       0.009629          1  \n",
       "3       0.005835          1  \n",
       "4       0.010160          1  "
      ]
     },
     "execution_count": 29,
     "metadata": {},
     "output_type": "execute_result"
    }
   ],
   "source": [
    "data = pd.read_csv(base_path + 'text.csv')\n",
    "data = data[:10000]\n",
    "\n",
    "data['title_overlap'] = get_norms(data['title_overlap'])\n",
    "data['ans_count'] = get_norms(data['ans_count'])\n",
    "data['questions_count'] = get_norms(data['questions_count'])\n",
    "data['reached_people'] = get_norms(data['reached_people'])\n",
    "#data['user_rating'] = get_norms(data['user_rating'])\n",
    "\n",
    "data = data.drop(['id_post', 'id_user'], axis=1)\n",
    "\n",
    "train_data, test_data = data_divider(data)\n",
    "x_train = train_data.drop('post_type', axis=1)\n",
    "y_train = train_data['post_type']\n",
    "x_test = test_data.drop('post_type', axis=1)\n",
    "y_test = test_data['post_type']\n",
    "\n",
    "data[:5]"
   ]
  },
  {
   "cell_type": "code",
   "execution_count": 8,
   "metadata": {},
   "outputs": [
    {
     "name": "stderr",
     "output_type": "stream",
     "text": [
      "d:\\programs\\python3\\lib\\site-packages\\ipykernel_launcher.py:1: UserWarning: Update your `Dense` call to the Keras 2 API: `Dense(activation=\"relu\", input_dim=6, units=20, kernel_initializer=\"uniform\")`\n",
      "  \"\"\"Entry point for launching an IPython kernel.\n",
      "d:\\programs\\python3\\lib\\site-packages\\ipykernel_launcher.py:4: UserWarning: Update your `Dense` call to the Keras 2 API: `Dense(activation=\"relu\", units=15, kernel_initializer=\"uniform\")`\n",
      "  after removing the cwd from sys.path.\n",
      "d:\\programs\\python3\\lib\\site-packages\\ipykernel_launcher.py:7: UserWarning: Update your `Dense` call to the Keras 2 API: `Dense(activation=\"relu\", units=12, kernel_initializer=\"uniform\")`\n",
      "  import sys\n",
      "d:\\programs\\python3\\lib\\site-packages\\ipykernel_launcher.py:10: UserWarning: Update your `Dense` call to the Keras 2 API: `Dense(activation=\"relu\", units=9, kernel_initializer=\"uniform\")`\n",
      "  # Remove the CWD from sys.path while we load stuff.\n",
      "d:\\programs\\python3\\lib\\site-packages\\ipykernel_launcher.py:13: UserWarning: Update your `Dense` call to the Keras 2 API: `Dense(activation=\"relu\", units=6, kernel_initializer=\"uniform\")`\n",
      "  del sys.path[0]\n",
      "d:\\programs\\python3\\lib\\site-packages\\ipykernel_launcher.py:16: UserWarning: Update your `Dense` call to the Keras 2 API: `Dense(activation=\"sigmoid\", units=1, kernel_initializer=\"uniform\")`\n",
      "  app.launch_new_instance()\n"
     ]
    }
   ],
   "source": [
    "classifier = Sequential()\n",
    "\n",
    "classifier.add(Dense(output_dim = 20, init = 'uniform', activation = 'relu', input_dim = x_train.shape[1]))\n",
    "classifier.add(Dropout(0.2, noise_shape=None, seed=None))\n",
    "\n",
    "classifier.add(Dense(output_dim = 15, init = 'uniform', activation = 'relu'))\n",
    "classifier.add(Dropout(0.2, noise_shape=None, seed=None))\n",
    "\n",
    "classifier.add(Dense(output_dim = 12, init = 'uniform', activation = 'relu'))\n",
    "classifier.add(Dropout(0.4, noise_shape=None, seed=None))\n",
    "\n",
    "classifier.add(Dense(output_dim = 9, init = 'uniform', activation = 'relu'))\n",
    "classifier.add(Dropout(0.3, noise_shape=None, seed=None))\n",
    "\n",
    "classifier.add(Dense(output_dim = 6, init = 'uniform', activation = 'relu'))\n",
    "classifier.add(Dropout(0.2, noise_shape=None, seed=None))\n",
    "\n",
    "classifier.add(Dense(output_dim = 1, init = 'uniform', activation = 'sigmoid'))\n",
    "classifier.compile(optimizer = SGD(momentum=0.1), loss = 'binary_crossentropy', metrics = ['accuracy'])"
   ]
  },
  {
   "cell_type": "code",
   "execution_count": 17,
   "metadata": {},
   "outputs": [
    {
     "name": "stdout",
     "output_type": "stream",
     "text": [
      "Model: \"sequential_1\"\n",
      "_________________________________________________________________\n",
      "Layer (type)                 Output Shape              Param #   \n",
      "=================================================================\n",
      "dense_1 (Dense)              (None, 20)                140       \n",
      "_________________________________________________________________\n",
      "dropout_1 (Dropout)          (None, 20)                0         \n",
      "_________________________________________________________________\n",
      "dense_2 (Dense)              (None, 15)                315       \n",
      "_________________________________________________________________\n",
      "dropout_2 (Dropout)          (None, 15)                0         \n",
      "_________________________________________________________________\n",
      "dense_3 (Dense)              (None, 12)                192       \n",
      "_________________________________________________________________\n",
      "dropout_3 (Dropout)          (None, 12)                0         \n",
      "_________________________________________________________________\n",
      "dense_4 (Dense)              (None, 9)                 117       \n",
      "_________________________________________________________________\n",
      "dropout_4 (Dropout)          (None, 9)                 0         \n",
      "_________________________________________________________________\n",
      "dense_5 (Dense)              (None, 6)                 60        \n",
      "_________________________________________________________________\n",
      "dropout_5 (Dropout)          (None, 6)                 0         \n",
      "_________________________________________________________________\n",
      "dense_6 (Dense)              (None, 1)                 7         \n",
      "=================================================================\n",
      "Total params: 831\n",
      "Trainable params: 831\n",
      "Non-trainable params: 0\n",
      "_________________________________________________________________\n",
      "Train on 6400 samples, validate on 1600 samples\n",
      "Epoch 1/100\n",
      " 500/6400 [=>............................] - ETA: 1s - loss: 0.5261 - accuracy: 0.78"
     ]
    },
    {
     "name": "stderr",
     "output_type": "stream",
     "text": [
      "d:\\programs\\python3\\lib\\site-packages\\ipykernel_launcher.py:3: UserWarning: The `nb_epoch` argument in `fit` has been renamed `epochs`.\n",
      "  This is separate from the ipykernel package so we can avoid doing imports until\n"
     ]
    },
    {
     "name": "stdout",
     "output_type": "stream",
     "text": [
      "6400/6400 [==============================] - 2s 265us/step - loss: 0.5198 - accuracy: 0.7842 - val_loss: 0.4937 - val_accuracy: 0.8044\n",
      "Epoch 2/100\n",
      "6400/6400 [==============================] - 2s 263us/step - loss: 0.5204 - accuracy: 0.7842 - val_loss: 0.4937 - val_accuracy: 0.8044\n",
      "Epoch 3/100\n",
      "6400/6400 [==============================] - 2s 248us/step - loss: 0.5201 - accuracy: 0.7842 - val_loss: 0.4935 - val_accuracy: 0.8044\n",
      "Epoch 4/100\n",
      "6400/6400 [==============================] - 2s 264us/step - loss: 0.5195 - accuracy: 0.7842 - val_loss: 0.4936 - val_accuracy: 0.8044\n",
      "Epoch 5/100\n",
      "6400/6400 [==============================] - 2s 253us/step - loss: 0.5198 - accuracy: 0.7842 - val_loss: 0.4934 - val_accuracy: 0.8044\n",
      "Epoch 6/100\n",
      "6400/6400 [==============================] - 2s 260us/step - loss: 0.5198 - accuracy: 0.7842 - val_loss: 0.4939 - val_accuracy: 0.8044\n",
      "Epoch 7/100\n",
      "6400/6400 [==============================] - 2s 264us/step - loss: 0.5199 - accuracy: 0.7842 - val_loss: 0.4938 - val_accuracy: 0.8044\n",
      "Epoch 8/100\n",
      "6400/6400 [==============================] - 2s 266us/step - loss: 0.5200 - accuracy: 0.7842 - val_loss: 0.4939 - val_accuracy: 0.8044\n",
      "Epoch 9/100\n",
      "6400/6400 [==============================] - 2s 263us/step - loss: 0.5201 - accuracy: 0.7842 - val_loss: 0.4935 - val_accuracy: 0.8044\n",
      "Epoch 10/100\n",
      "6400/6400 [==============================] - 2s 247us/step - loss: 0.5198 - accuracy: 0.7842 - val_loss: 0.4936 - val_accuracy: 0.8044\n",
      "Epoch 11/100\n",
      "6400/6400 [==============================] - 2s 249us/step - loss: 0.5204 - accuracy: 0.7842 - val_loss: 0.4942 - val_accuracy: 0.8044\n",
      "Epoch 12/100\n",
      "6400/6400 [==============================] - 2s 266us/step - loss: 0.5195 - accuracy: 0.7842 - val_loss: 0.4938 - val_accuracy: 0.8044\n",
      "Epoch 13/100\n",
      "6400/6400 [==============================] - 2s 270us/step - loss: 0.5189 - accuracy: 0.7842 - val_loss: 0.4933 - val_accuracy: 0.8044\n",
      "Epoch 14/100\n",
      "6400/6400 [==============================] - 2s 267us/step - loss: 0.5203 - accuracy: 0.7842 - val_loss: 0.4936 - val_accuracy: 0.8044\n",
      "Epoch 15/100\n",
      "6400/6400 [==============================] - 2s 263us/step - loss: 0.5200 - accuracy: 0.7842 - val_loss: 0.4934 - val_accuracy: 0.8044\n",
      "Epoch 16/100\n",
      "6400/6400 [==============================] - 2s 267us/step - loss: 0.5198 - accuracy: 0.7842 - val_loss: 0.4939 - val_accuracy: 0.8044\n",
      "Epoch 17/100\n",
      "6400/6400 [==============================] - 2s 262us/step - loss: 0.5199 - accuracy: 0.7842 - val_loss: 0.4937 - val_accuracy: 0.8044\n",
      "Epoch 18/100\n",
      "6400/6400 [==============================] - 2s 258us/step - loss: 0.5194 - accuracy: 0.7842 - val_loss: 0.4933 - val_accuracy: 0.8044\n",
      "Epoch 19/100\n",
      "6400/6400 [==============================] - 2s 244us/step - loss: 0.5205 - accuracy: 0.7842 - val_loss: 0.4937 - val_accuracy: 0.8044\n",
      "Epoch 20/100\n",
      "6400/6400 [==============================] - 2s 240us/step - loss: 0.5198 - accuracy: 0.7842 - val_loss: 0.4938 - val_accuracy: 0.8044\n",
      "Epoch 21/100\n",
      "6400/6400 [==============================] - 2s 252us/step - loss: 0.5200 - accuracy: 0.7842 - val_loss: 0.4939 - val_accuracy: 0.8044\n",
      "Epoch 22/100\n",
      "6400/6400 [==============================] - 2s 251us/step - loss: 0.5202 - accuracy: 0.7842 - val_loss: 0.4939 - val_accuracy: 0.8044\n",
      "Epoch 23/100\n",
      "6400/6400 [==============================] - 2s 260us/step - loss: 0.5193 - accuracy: 0.7842 - val_loss: 0.4935 - val_accuracy: 0.8044\n",
      "Epoch 24/100\n",
      "6400/6400 [==============================] - 2s 282us/step - loss: 0.5193 - accuracy: 0.7842 - val_loss: 0.4936 - val_accuracy: 0.8044\n",
      "Epoch 25/100\n",
      "6400/6400 [==============================] - 2s 267us/step - loss: 0.5196 - accuracy: 0.7842 - val_loss: 0.4937 - val_accuracy: 0.8044\n",
      "Epoch 26/100\n",
      "6400/6400 [==============================] - 2s 260us/step - loss: 0.5203 - accuracy: 0.7842 - val_loss: 0.4942 - val_accuracy: 0.8044\n",
      "Epoch 27/100\n",
      "6400/6400 [==============================] - 2s 287us/step - loss: 0.5194 - accuracy: 0.7842 - val_loss: 0.4936 - val_accuracy: 0.8044\n",
      "Epoch 28/100\n",
      "6400/6400 [==============================] - 2s 374us/step - loss: 0.5208 - accuracy: 0.7842 - val_loss: 0.4936 - val_accuracy: 0.8044\n",
      "Epoch 29/100\n",
      "6400/6400 [==============================] - 2s 312us/step - loss: 0.5200 - accuracy: 0.7842 - val_loss: 0.4937 - val_accuracy: 0.8044\n",
      "Epoch 30/100\n",
      "6400/6400 [==============================] - 2s 262us/step - loss: 0.5204 - accuracy: 0.7842 - val_loss: 0.4938 - val_accuracy: 0.8044\n",
      "Epoch 31/100\n",
      "6400/6400 [==============================] - 2s 234us/step - loss: 0.5201 - accuracy: 0.7842 - val_loss: 0.4935 - val_accuracy: 0.8044\n",
      "Epoch 32/100\n",
      "6400/6400 [==============================] - 1s 226us/step - loss: 0.5200 - accuracy: 0.7842 - val_loss: 0.4936 - val_accuracy: 0.8044\n",
      "Epoch 33/100\n",
      "6400/6400 [==============================] - 1s 231us/step - loss: 0.5190 - accuracy: 0.7842 - val_loss: 0.4934 - val_accuracy: 0.8044\n",
      "Epoch 34/100\n",
      "6400/6400 [==============================] - 1s 233us/step - loss: 0.5206 - accuracy: 0.7842 - val_loss: 0.4940 - val_accuracy: 0.8044\n",
      "Epoch 35/100\n",
      "6400/6400 [==============================] - 1s 225us/step - loss: 0.5206 - accuracy: 0.7842 - val_loss: 0.4939 - val_accuracy: 0.8044\n",
      "Epoch 36/100\n",
      "6400/6400 [==============================] - 1s 226us/step - loss: 0.5203 - accuracy: 0.7842 - val_loss: 0.4937 - val_accuracy: 0.8044\n",
      "Epoch 37/100\n",
      "6400/6400 [==============================] - 1s 225us/step - loss: 0.5200 - accuracy: 0.7842 - val_loss: 0.4934 - val_accuracy: 0.8044\n",
      "Epoch 38/100\n",
      "6400/6400 [==============================] - 1s 226us/step - loss: 0.5191 - accuracy: 0.7842 - val_loss: 0.4933 - val_accuracy: 0.8044\n",
      "Epoch 39/100\n",
      "6400/6400 [==============================] - 1s 225us/step - loss: 0.5201 - accuracy: 0.7842 - val_loss: 0.4936 - val_accuracy: 0.8044\n",
      "Epoch 40/100\n",
      "6400/6400 [==============================] - 1s 228us/step - loss: 0.5199 - accuracy: 0.7842 - val_loss: 0.4936 - val_accuracy: 0.8044\n",
      "Epoch 41/100\n",
      "6400/6400 [==============================] - 1s 224us/step - loss: 0.5204 - accuracy: 0.7842 - val_loss: 0.4939 - val_accuracy: 0.8044\n",
      "Epoch 42/100\n",
      "6400/6400 [==============================] - 1s 224us/step - loss: 0.5194 - accuracy: 0.7842 - val_loss: 0.4935 - val_accuracy: 0.8044\n",
      "Epoch 43/100\n",
      "6400/6400 [==============================] - 1s 224us/step - loss: 0.5193 - accuracy: 0.7842 - val_loss: 0.4936 - val_accuracy: 0.8044\n",
      "Epoch 44/100\n",
      "6400/6400 [==============================] - 1s 224us/step - loss: 0.5188 - accuracy: 0.7842 - val_loss: 0.4936 - val_accuracy: 0.8044\n",
      "Epoch 45/100\n",
      "6400/6400 [==============================] - 1s 223us/step - loss: 0.5202 - accuracy: 0.7842 - val_loss: 0.4940 - val_accuracy: 0.8044\n",
      "Epoch 46/100\n",
      "6400/6400 [==============================] - 1s 224us/step - loss: 0.5204 - accuracy: 0.7842 - val_loss: 0.4943 - val_accuracy: 0.8044\n",
      "Epoch 47/100\n",
      "6400/6400 [==============================] - 2s 238us/step - loss: 0.5200 - accuracy: 0.7842 - val_loss: 0.4937 - val_accuracy: 0.8044\n",
      "Epoch 48/100\n",
      "6400/6400 [==============================] - 2s 298us/step - loss: 0.5201 - accuracy: 0.7842 - val_loss: 0.4935 - val_accuracy: 0.8044\n",
      "Epoch 49/100\n",
      "6400/6400 [==============================] - 2s 258us/step - loss: 0.5201 - accuracy: 0.7842 - val_loss: 0.4939 - val_accuracy: 0.8044\n",
      "Epoch 50/100\n",
      "6400/6400 [==============================] - 2s 267us/step - loss: 0.5189 - accuracy: 0.7842 - val_loss: 0.4933 - val_accuracy: 0.8044\n",
      "Epoch 51/100\n",
      "6400/6400 [==============================] - 2s 273us/step - loss: 0.5199 - accuracy: 0.7842 - val_loss: 0.4936 - val_accuracy: 0.8044\n",
      "Epoch 52/100\n",
      "6400/6400 [==============================] - 2s 252us/step - loss: 0.5197 - accuracy: 0.7842 - val_loss: 0.4936 - val_accuracy: 0.8044\n",
      "Epoch 53/100\n",
      "6400/6400 [==============================] - 2s 240us/step - loss: 0.5201 - accuracy: 0.7842 - val_loss: 0.4941 - val_accuracy: 0.8044\n",
      "Epoch 54/100\n",
      "6400/6400 [==============================] - 2s 240us/step - loss: 0.5197 - accuracy: 0.7842 - val_loss: 0.4940 - val_accuracy: 0.8044\n",
      "Epoch 55/100\n",
      "6400/6400 [==============================] - 2s 244us/step - loss: 0.5196 - accuracy: 0.7842 - val_loss: 0.4935 - val_accuracy: 0.8044\n",
      "Epoch 56/100\n"
     ]
    },
    {
     "name": "stdout",
     "output_type": "stream",
     "text": [
      "6400/6400 [==============================] - 2s 236us/step - loss: 0.5202 - accuracy: 0.7842 - val_loss: 0.4938 - val_accuracy: 0.8044\n",
      "Epoch 57/100\n",
      "6400/6400 [==============================] - 2s 242us/step - loss: 0.5201 - accuracy: 0.7842 - val_loss: 0.4938 - val_accuracy: 0.8044\n",
      "Epoch 58/100\n",
      "6400/6400 [==============================] - 1s 234us/step - loss: 0.5197 - accuracy: 0.7842 - val_loss: 0.4934 - val_accuracy: 0.8044\n",
      "Epoch 59/100\n",
      "6400/6400 [==============================] - 2s 235us/step - loss: 0.5206 - accuracy: 0.7842 - val_loss: 0.4938 - val_accuracy: 0.8044\n",
      "Epoch 60/100\n",
      "6400/6400 [==============================] - 1s 234us/step - loss: 0.5193 - accuracy: 0.7842 - val_loss: 0.4934 - val_accuracy: 0.8044\n",
      "Epoch 61/100\n",
      "6400/6400 [==============================] - 2s 236us/step - loss: 0.5201 - accuracy: 0.7842 - val_loss: 0.4940 - val_accuracy: 0.8044\n",
      "Epoch 62/100\n",
      "6400/6400 [==============================] - 2s 235us/step - loss: 0.5195 - accuracy: 0.7842 - val_loss: 0.4937 - val_accuracy: 0.8044\n",
      "Epoch 63/100\n",
      "6400/6400 [==============================] - 2s 236us/step - loss: 0.5199 - accuracy: 0.7842 - val_loss: 0.4938 - val_accuracy: 0.8044\n",
      "Epoch 64/100\n",
      "6400/6400 [==============================] - 2s 251us/step - loss: 0.5204 - accuracy: 0.7842 - val_loss: 0.4936 - val_accuracy: 0.8044\n",
      "Epoch 65/100\n",
      "6400/6400 [==============================] - 2s 236us/step - loss: 0.5203 - accuracy: 0.7842 - val_loss: 0.4937 - val_accuracy: 0.8044\n",
      "Epoch 66/100\n",
      "6400/6400 [==============================] - 2s 236us/step - loss: 0.5202 - accuracy: 0.7842 - val_loss: 0.4941 - val_accuracy: 0.8044\n",
      "Epoch 67/100\n",
      "6400/6400 [==============================] - 2s 264us/step - loss: 0.5205 - accuracy: 0.7842 - val_loss: 0.4939 - val_accuracy: 0.8044\n",
      "Epoch 68/100\n",
      "6400/6400 [==============================] - 2s 237us/step - loss: 0.5202 - accuracy: 0.7842 - val_loss: 0.4936 - val_accuracy: 0.8044\n",
      "Epoch 69/100\n",
      "6400/6400 [==============================] - 2s 236us/step - loss: 0.5195 - accuracy: 0.7842 - val_loss: 0.4933 - val_accuracy: 0.8044\n",
      "Epoch 70/100\n",
      "6400/6400 [==============================] - 2s 237us/step - loss: 0.5195 - accuracy: 0.7842 - val_loss: 0.4934 - val_accuracy: 0.8044\n",
      "Epoch 71/100\n",
      "6400/6400 [==============================] - 2s 238us/step - loss: 0.5195 - accuracy: 0.7842 - val_loss: 0.4936 - val_accuracy: 0.8044\n",
      "Epoch 72/100\n",
      "6400/6400 [==============================] - 2s 237us/step - loss: 0.5200 - accuracy: 0.7842 - val_loss: 0.4935 - val_accuracy: 0.8044\n",
      "Epoch 73/100\n",
      "6400/6400 [==============================] - 2s 237us/step - loss: 0.5207 - accuracy: 0.7842 - val_loss: 0.4940 - val_accuracy: 0.8044\n",
      "Epoch 74/100\n",
      "6400/6400 [==============================] - 2s 237us/step - loss: 0.5202 - accuracy: 0.7842 - val_loss: 0.4938 - val_accuracy: 0.8044\n",
      "Epoch 75/100\n",
      "6400/6400 [==============================] - 2s 237us/step - loss: 0.5194 - accuracy: 0.7842 - val_loss: 0.4935 - val_accuracy: 0.8044\n",
      "Epoch 76/100\n",
      "6400/6400 [==============================] - 2s 237us/step - loss: 0.5203 - accuracy: 0.7842 - val_loss: 0.4941 - val_accuracy: 0.8044\n",
      "Epoch 77/100\n",
      "6400/6400 [==============================] - 2s 257us/step - loss: 0.5200 - accuracy: 0.7842 - val_loss: 0.4937 - val_accuracy: 0.8044\n",
      "Epoch 78/100\n",
      "6400/6400 [==============================] - 2s 298us/step - loss: 0.5191 - accuracy: 0.7842 - val_loss: 0.4936 - val_accuracy: 0.8044\n",
      "Epoch 79/100\n",
      "6400/6400 [==============================] - 2s 256us/step - loss: 0.5198 - accuracy: 0.7842 - val_loss: 0.4939 - val_accuracy: 0.8044\n",
      "Epoch 80/100\n",
      "6400/6400 [==============================] - 2s 256us/step - loss: 0.5197 - accuracy: 0.7842 - val_loss: 0.4934 - val_accuracy: 0.8044\n",
      "Epoch 81/100\n",
      "6400/6400 [==============================] - 2s 236us/step - loss: 0.5204 - accuracy: 0.7842 - val_loss: 0.4939 - val_accuracy: 0.8044\n",
      "Epoch 82/100\n",
      "6400/6400 [==============================] - 2s 250us/step - loss: 0.5199 - accuracy: 0.7842 - val_loss: 0.4937 - val_accuracy: 0.8044\n",
      "Epoch 83/100\n",
      "6400/6400 [==============================] - 2s 240us/step - loss: 0.5195 - accuracy: 0.7842 - val_loss: 0.4936 - val_accuracy: 0.8044\n",
      "Epoch 84/100\n",
      "6400/6400 [==============================] - 2s 247us/step - loss: 0.5206 - accuracy: 0.7842 - val_loss: 0.4936 - val_accuracy: 0.8044\n",
      "Epoch 85/100\n",
      "6400/6400 [==============================] - 2s 252us/step - loss: 0.5200 - accuracy: 0.7842 - val_loss: 0.4938 - val_accuracy: 0.8044\n",
      "Epoch 86/100\n",
      "6400/6400 [==============================] - 2s 259us/step - loss: 0.5198 - accuracy: 0.7842 - val_loss: 0.4935 - val_accuracy: 0.8044\n",
      "Epoch 87/100\n",
      "6400/6400 [==============================] - 2s 243us/step - loss: 0.5191 - accuracy: 0.7842 - val_loss: 0.4933 - val_accuracy: 0.8044\n",
      "Epoch 88/100\n",
      "6400/6400 [==============================] - 2s 244us/step - loss: 0.5194 - accuracy: 0.7842 - val_loss: 0.4937 - val_accuracy: 0.8044\n",
      "Epoch 89/100\n",
      "6400/6400 [==============================] - 2s 254us/step - loss: 0.5199 - accuracy: 0.7842 - val_loss: 0.4940 - val_accuracy: 0.8044\n",
      "Epoch 90/100\n",
      "6400/6400 [==============================] - 2s 254us/step - loss: 0.5199 - accuracy: 0.7842 - val_loss: 0.4942 - val_accuracy: 0.8044\n",
      "Epoch 91/100\n",
      "6400/6400 [==============================] - 2s 240us/step - loss: 0.5196 - accuracy: 0.7842 - val_loss: 0.4936 - val_accuracy: 0.8044\n",
      "Epoch 92/100\n",
      "6400/6400 [==============================] - 2s 238us/step - loss: 0.5197 - accuracy: 0.7842 - val_loss: 0.4935 - val_accuracy: 0.8044\n",
      "Epoch 93/100\n",
      "6400/6400 [==============================] - 2s 240us/step - loss: 0.5190 - accuracy: 0.7842 - val_loss: 0.4933 - val_accuracy: 0.8044\n",
      "Epoch 94/100\n",
      "6400/6400 [==============================] - 2s 241us/step - loss: 0.5203 - accuracy: 0.7842 - val_loss: 0.4938 - val_accuracy: 0.8044\n",
      "Epoch 95/100\n",
      "6400/6400 [==============================] - 2s 254us/step - loss: 0.5192 - accuracy: 0.7842 - val_loss: 0.4935 - val_accuracy: 0.8044\n",
      "Epoch 96/100\n",
      "6400/6400 [==============================] - 2s 256us/step - loss: 0.5190 - accuracy: 0.7842 - val_loss: 0.4942 - val_accuracy: 0.8044\n",
      "Epoch 97/100\n",
      "6400/6400 [==============================] - 2s 255us/step - loss: 0.5203 - accuracy: 0.7842 - val_loss: 0.4941 - val_accuracy: 0.8044\n",
      "Epoch 98/100\n",
      "6400/6400 [==============================] - 2s 239us/step - loss: 0.5203 - accuracy: 0.7842 - val_loss: 0.4941 - val_accuracy: 0.8044\n",
      "Epoch 99/100\n",
      "6400/6400 [==============================] - 2s 257us/step - loss: 0.5200 - accuracy: 0.7842 - val_loss: 0.4938 - val_accuracy: 0.8044\n",
      "Epoch 100/100\n",
      "6400/6400 [==============================] - 2s 246us/step - loss: 0.5196 - accuracy: 0.7842 - val_loss: 0.4939 - val_accuracy: 0.8044\n"
     ]
    },
    {
     "data": {
      "image/png": "[encoded data removed]",
      "text/plain": [
       "<IPython.core.display.Image object>"
      ]
     },
     "execution_count": 17,
     "metadata": {},
     "output_type": "execute_result"
    }
   ],
   "source": [
    "classifier.summary()\n",
    "\n",
    "history = classifier.fit(x_train, y_train, validation_split=0.2, batch_size = 20, nb_epoch = 100)\n",
    "\n",
    "prediction = classifier.predict(x_test).tolist()\n",
    "plot_model(classifier, to_file=\"model.png\")"
   ]
  },
  {
   "cell_type": "code",
   "execution_count": 19,
   "metadata": {},
   "outputs": [],
   "source": [
    "def eval_res(res, goal):\n",
    "    all_c = len(goal.index)\n",
    "    right = 0\n",
    "    for i in range(len(goal)):\n",
    "        if res[i] == goal.iloc[i]:\n",
    "            right += 1\n",
    "    acc = right / all_c\n",
    "    print('accuracy: {}'.format(acc))\n",
    "\n",
    "    average_precision = average_precision_score(goal, res)\n",
    "    f1_score = skl.metrics.f1_score(res, goal)\n",
    "    print('Average precision-recall score: {0:0.2f}'.format(average_precision))\n",
    "    print('F1 score: {}'.format(f1_score))"
   ]
  },
  {
   "cell_type": "code",
   "execution_count": 20,
   "metadata": {},
   "outputs": [
    {
     "name": "stdout",
     "output_type": "stream",
     "text": [
      "accuracy: 0.801\n",
      "Average precision-recall score: 0.80\n",
      "F1 score: 0.889505830094392\n",
      "Train: 0.788, Test: 0.801\n"
     ]
    },
    {
     "data": {
      "image/png": "[encoded data removed]",
      "text/plain": [
       "<Figure size 432x288 with 2 Axes>"
      ]
     },
     "metadata": {
      "needs_background": "light"
     },
     "output_type": "display_data"
    }
   ],
   "source": [
    "        \n",
    "res = []\n",
    "for i in prediction:\n",
    "    if i[0] >= 0.5:\n",
    "        res.append(1)\n",
    "    else:\n",
    "        res.append(0)\n",
    "\n",
    "eval_res(res, y_test)\n",
    "        \n",
    "\n",
    "_, train_acc = classifier.evaluate(x_train, y_train, verbose=0)\n",
    "_, test_acc = classifier.evaluate(x_test, y_test, verbose=0)\n",
    "print('Train: %.3f, Test: %.3f' % (train_acc, test_acc))\n",
    "\n",
    "plt.subplot(211)\n",
    "plt.title('Loss')\n",
    "plt.plot(history.history['loss'], label='train')\n",
    "plt.plot(history.history['val_loss'], label='test')\n",
    "plt.legend()\n",
    "\n",
    "plt.subplot(212)\n",
    "plt.title('Accuracy')\n",
    "plt.plot(history.history['accuracy'], label='train')\n",
    "plt.plot(history.history['val_accuracy'], label='test')\n",
    "plt.legend()\n",
    "plt.show()\n",
    "\n",
    "classifier.save(\"model_tmp.ser\")"
   ]
  },
  {
   "cell_type": "code",
   "execution_count": 30,
   "metadata": {},
   "outputs": [
    {
     "name": "stdout",
     "output_type": "stream",
     "text": [
      "accuracy: 0.788\n",
      "Average precision-recall score: 0.79\n",
      "F1 score: 0.8814317673378076\n"
     ]
    }
   ],
   "source": [
    "log_reg = LogisticRegression(random_state=0)\n",
    "log_reg.fit(x_train, y_train)\n",
    "res = log_reg.predict(x_test).tolist()\n",
    "\n",
    "eval_res(res, y_test)"
   ]
  },
  {
   "cell_type": "code",
   "execution_count": 31,
   "metadata": {},
   "outputs": [
    {
     "name": "stdout",
     "output_type": "stream",
     "text": [
      "accuracy: 0.788\n",
      "Average precision-recall score: 0.79\n",
      "F1 score: 0.8814317673378076\n"
     ]
    }
   ],
   "source": [
    "eval_res([1 for i in range(len(y_test))], y_test)"
   ]
  },
  {
   "cell_type": "code",
   "execution_count": 32,
   "metadata": {},
   "outputs": [
    {
     "name": "stdout",
     "output_type": "stream",
     "text": [
      "accuracy: 0.788\n",
      "Average precision-recall score: 0.81\n",
      "F1 score: 0.8761392848796449\n"
     ]
    }
   ],
   "source": [
    "model = xgb.XGBClassifier()\n",
    "model.fit(x_train, y_train)\n",
    "res = model.predict(x_test)\n",
    "eval_res(res, y_test)"
   ]
  },
  {
   "cell_type": "code",
   "execution_count": null,
   "metadata": {},
   "outputs": [],
   "source": []
  }
 ],
 "metadata": {
  "kernelspec": {
   "display_name": "Python 3",
   "language": "python",
   "name": "python3"
  },
  "language_info": {
   "codemirror_mode": {
    "name": "ipython",
    "version": 3
   },
   "file_extension": ".py",
   "mimetype": "text/x-python",
   "name": "python",
   "nbconvert_exporter": "python",
   "pygments_lexer": "ipython3",
   "version": "3.7.6"
  }
 },
 "nbformat": 4,
 "nbformat_minor": 4
}
