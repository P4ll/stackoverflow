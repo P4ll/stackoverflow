{
 "cells": [
  {
   "cell_type": "code",
   "execution_count": 1,
   "metadata": {},
   "outputs": [
    {
     "name": "stderr",
     "output_type": "stream",
     "text": [
      "Using TensorFlow backend.\n"
     ]
    }
   ],
   "source": [
    "%matplotlib inline\n",
    "import matplotlib\n",
    "import matplotlib.pyplot as plt\n",
    "\n",
    "import numpy as np\n",
    "import pandas as pd\n",
    "import sklearn as skl\n",
    "\n",
    "from keras.models import Sequential\n",
    "from keras.optimizers import SGD, RMSprop, Adam\n",
    "from keras.layers import Dense, Activation, Dropout\n",
    "\n",
    "from sklearn.metrics import average_precision_score\n",
    "from sklearn.preprocessing import normalize\n",
    "from sklearn.model_selection import train_test_split\n",
    "\n",
    "from keras.utils import plot_model\n",
    "from IPython.display import SVG\n",
    "from keras.utils.vis_utils import model_to_dot\n",
    "\n",
    "base_path = \"d:/work/stackoverflow/\""
   ]
  },
  {
   "cell_type": "code",
   "execution_count": 2,
   "metadata": {},
   "outputs": [
    {
     "data": {
      "text/plain": [
       "['/device:GPU:0']"
      ]
     },
     "execution_count": 2,
     "metadata": {},
     "output_type": "execute_result"
    }
   ],
   "source": [
    "from keras import backend as K\n",
    "K.tensorflow_backend._get_available_gpus()"
   ]
  },
  {
   "cell_type": "code",
   "execution_count": 3,
   "metadata": {},
   "outputs": [],
   "source": [
    "def data_divider(data, per=0.8, shuffle=True):\n",
    "    if shuffle:\n",
    "        data = data.sample(frac=1).reset_index(drop=True)\n",
    "    rr = round(len(data.index) * per)\n",
    "    return data[:rr], data[rr:]\n",
    "\n",
    "def get_norms(ser):\n",
    "    return normalize(ser[:,np.newaxis], axis=0).ravel()"
   ]
  },
  {
   "cell_type": "code",
   "execution_count": 4,
   "metadata": {},
   "outputs": [
    {
     "data": {
      "text/html": [
       "<div>\n",
       "<style scoped>\n",
       "    .dataframe tbody tr th:only-of-type {\n",
       "        vertical-align: middle;\n",
       "    }\n",
       "\n",
       "    .dataframe tbody tr th {\n",
       "        vertical-align: top;\n",
       "    }\n",
       "\n",
       "    .dataframe thead th {\n",
       "        text-align: right;\n",
       "    }\n",
       "</style>\n",
       "<table border=\"1\" class=\"dataframe\">\n",
       "  <thead>\n",
       "    <tr style=\"text-align: right;\">\n",
       "      <th></th>\n",
       "      <th>ans_count</th>\n",
       "      <th>questions_count</th>\n",
       "      <th>reached_people</th>\n",
       "      <th>user_rating</th>\n",
       "      <th>debug_inf</th>\n",
       "      <th>title_overlap</th>\n",
       "      <th>post_type</th>\n",
       "    </tr>\n",
       "  </thead>\n",
       "  <tbody>\n",
       "    <tr>\n",
       "      <th>0</th>\n",
       "      <td>0.000000</td>\n",
       "      <td>0.000285</td>\n",
       "      <td>1.399707e-06</td>\n",
       "      <td>19</td>\n",
       "      <td>0</td>\n",
       "      <td>0.004051</td>\n",
       "      <td>1</td>\n",
       "    </tr>\n",
       "    <tr>\n",
       "      <th>1</th>\n",
       "      <td>0.000000</td>\n",
       "      <td>0.000071</td>\n",
       "      <td>6.220922e-07</td>\n",
       "      <td>1</td>\n",
       "      <td>0</td>\n",
       "      <td>0.000000</td>\n",
       "      <td>0</td>\n",
       "    </tr>\n",
       "    <tr>\n",
       "      <th>2</th>\n",
       "      <td>0.000000</td>\n",
       "      <td>0.000036</td>\n",
       "      <td>2.151402e-07</td>\n",
       "      <td>1</td>\n",
       "      <td>0</td>\n",
       "      <td>0.003686</td>\n",
       "      <td>1</td>\n",
       "    </tr>\n",
       "    <tr>\n",
       "      <th>3</th>\n",
       "      <td>0.000037</td>\n",
       "      <td>0.000142</td>\n",
       "      <td>1.407484e-06</td>\n",
       "      <td>9</td>\n",
       "      <td>0</td>\n",
       "      <td>0.002233</td>\n",
       "      <td>1</td>\n",
       "    </tr>\n",
       "    <tr>\n",
       "      <th>4</th>\n",
       "      <td>0.000018</td>\n",
       "      <td>0.001958</td>\n",
       "      <td>2.929018e-04</td>\n",
       "      <td>725</td>\n",
       "      <td>0</td>\n",
       "      <td>0.003889</td>\n",
       "      <td>1</td>\n",
       "    </tr>\n",
       "  </tbody>\n",
       "</table>\n",
       "</div>"
      ],
      "text/plain": [
       "   ans_count  questions_count  reached_people  user_rating  debug_inf  \\\n",
       "0   0.000000         0.000285    1.399707e-06           19          0   \n",
       "1   0.000000         0.000071    6.220922e-07            1          0   \n",
       "2   0.000000         0.000036    2.151402e-07            1          0   \n",
       "3   0.000037         0.000142    1.407484e-06            9          0   \n",
       "4   0.000018         0.001958    2.929018e-04          725          0   \n",
       "\n",
       "   title_overlap  post_type  \n",
       "0       0.004051          1  \n",
       "1       0.000000          0  \n",
       "2       0.003686          1  \n",
       "3       0.002233          1  \n",
       "4       0.003889          1  "
      ]
     },
     "execution_count": 4,
     "metadata": {},
     "output_type": "execute_result"
    }
   ],
   "source": [
    "data = pd.read_csv(base_path + 'text.csv')\n",
    "\n",
    "data['title_overlap'] = get_norms(data['title_overlap'])\n",
    "data['ans_count'] = get_norms(data['ans_count'])\n",
    "data['questions_count'] = get_norms(data['questions_count'])\n",
    "data['reached_people'] = get_norms(data['reached_people'])\n",
    "#data['user_rating'] = get_norms(data['user_rating'])\n",
    "\n",
    "data = data.drop(['id_post', 'id_user'], axis=1)\n",
    "\n",
    "data[:5]"
   ]
  },
  {
   "cell_type": "code",
   "execution_count": 5,
   "metadata": {},
   "outputs": [],
   "source": [
    "train_data, test_data = data_divider(data)"
   ]
  },
  {
   "cell_type": "code",
   "execution_count": 6,
   "metadata": {},
   "outputs": [],
   "source": [
    "x_train = train_data.drop('post_type', axis=1)\n",
    "y_train = train_data['post_type']\n",
    "x_test = test_data.drop('post_type', axis=1)\n",
    "y_test = test_data['post_type']"
   ]
  },
  {
   "cell_type": "code",
   "execution_count": 7,
   "metadata": {},
   "outputs": [],
   "source": [
    "classifier = Sequential()"
   ]
  },
  {
   "cell_type": "code",
   "execution_count": 8,
   "metadata": {},
   "outputs": [
    {
     "name": "stderr",
     "output_type": "stream",
     "text": [
      "d:\\programs\\python3\\lib\\site-packages\\ipykernel_launcher.py:1: UserWarning: Update your `Dense` call to the Keras 2 API: `Dense(activation=\"relu\", input_dim=6, units=6, kernel_initializer=\"uniform\")`\n",
      "  \"\"\"Entry point for launching an IPython kernel.\n",
      "d:\\programs\\python3\\lib\\site-packages\\ipykernel_launcher.py:4: UserWarning: Update your `Dense` call to the Keras 2 API: `Dense(activation=\"relu\", units=4, kernel_initializer=\"uniform\")`\n",
      "  after removing the cwd from sys.path.\n",
      "d:\\programs\\python3\\lib\\site-packages\\ipykernel_launcher.py:7: UserWarning: Update your `Dense` call to the Keras 2 API: `Dense(activation=\"relu\", units=3, kernel_initializer=\"uniform\")`\n",
      "  import sys\n",
      "d:\\programs\\python3\\lib\\site-packages\\ipykernel_launcher.py:10: UserWarning: Update your `Dense` call to the Keras 2 API: `Dense(activation=\"relu\", units=3, kernel_initializer=\"uniform\")`\n",
      "  # Remove the CWD from sys.path while we load stuff.\n",
      "d:\\programs\\python3\\lib\\site-packages\\ipykernel_launcher.py:13: UserWarning: Update your `Dense` call to the Keras 2 API: `Dense(activation=\"relu\", units=2, kernel_initializer=\"uniform\")`\n",
      "  del sys.path[0]\n",
      "d:\\programs\\python3\\lib\\site-packages\\ipykernel_launcher.py:16: UserWarning: Update your `Dense` call to the Keras 2 API: `Dense(activation=\"sigmoid\", units=1, kernel_initializer=\"uniform\")`\n",
      "  app.launch_new_instance()\n"
     ]
    }
   ],
   "source": [
    "classifier.add(Dense(output_dim = 6, init = 'uniform', activation = 'relu', input_dim = x_train.shape[1]))\n",
    "classifier.add(Dropout(0.2, noise_shape=None, seed=None))\n",
    "\n",
    "classifier.add(Dense(output_dim = 4, init = 'uniform', activation = 'relu'))\n",
    "classifier.add(Dropout(0.2, noise_shape=None, seed=None))\n",
    "\n",
    "classifier.add(Dense(output_dim = 3, init = 'uniform', activation = 'relu'))\n",
    "classifier.add(Dropout(0.4, noise_shape=None, seed=None))\n",
    "\n",
    "classifier.add(Dense(output_dim = 3, init = 'uniform', activation = 'relu'))\n",
    "classifier.add(Dropout(0.4, noise_shape=None, seed=None))\n",
    "\n",
    "classifier.add(Dense(output_dim = 2, init = 'uniform', activation = 'relu'))\n",
    "classifier.add(Dropout(0.2, noise_shape=None, seed=None))\n",
    "\n",
    "classifier.add(Dense(output_dim = 1, init = 'uniform', activation = 'sigmoid'))\n",
    "classifier.compile(optimizer = SGD(momentum=0.1), loss = 'binary_crossentropy', metrics = ['accuracy'])"
   ]
  },
  {
   "cell_type": "code",
   "execution_count": 9,
   "metadata": {},
   "outputs": [
    {
     "name": "stdout",
     "output_type": "stream",
     "text": [
      "Model: \"sequential_1\"\n",
      "_________________________________________________________________\n",
      "Layer (type)                 Output Shape              Param #   \n",
      "=================================================================\n",
      "dense_1 (Dense)              (None, 6)                 42        \n",
      "_________________________________________________________________\n",
      "dropout_1 (Dropout)          (None, 6)                 0         \n",
      "_________________________________________________________________\n",
      "dense_2 (Dense)              (None, 4)                 28        \n",
      "_________________________________________________________________\n",
      "dropout_2 (Dropout)          (None, 4)                 0         \n",
      "_________________________________________________________________\n",
      "dense_3 (Dense)              (None, 3)                 15        \n",
      "_________________________________________________________________\n",
      "dropout_3 (Dropout)          (None, 3)                 0         \n",
      "_________________________________________________________________\n",
      "dense_4 (Dense)              (None, 3)                 12        \n",
      "_________________________________________________________________\n",
      "dropout_4 (Dropout)          (None, 3)                 0         \n",
      "_________________________________________________________________\n",
      "dense_5 (Dense)              (None, 2)                 8         \n",
      "_________________________________________________________________\n",
      "dropout_5 (Dropout)          (None, 2)                 0         \n",
      "_________________________________________________________________\n",
      "dense_6 (Dense)              (None, 1)                 3         \n",
      "=================================================================\n",
      "Total params: 108\n",
      "Trainable params: 108\n",
      "Non-trainable params: 0\n",
      "_________________________________________________________________\n"
     ]
    }
   ],
   "source": [
    "classifier.summary()"
   ]
  },
  {
   "cell_type": "code",
   "execution_count": 10,
   "metadata": {},
   "outputs": [
    {
     "name": "stderr",
     "output_type": "stream",
     "text": [
      "d:\\programs\\python3\\lib\\site-packages\\ipykernel_launcher.py:1: UserWarning: The `nb_epoch` argument in `fit` has been renamed `epochs`.\n",
      "  \"\"\"Entry point for launching an IPython kernel.\n"
     ]
    },
    {
     "name": "stdout",
     "output_type": "stream",
     "text": [
      "Train on 43921 samples, validate on 10981 samples\n",
      "Epoch 1/20\n",
      "43921/43921 [==============================] - 11s 253us/step - loss: 0.6453 - accuracy: 0.6602 - val_loss: 0.6440 - val_accuracy: 0.6556\n",
      "Epoch 2/20\n",
      "43921/43921 [==============================] - 11s 246us/step - loss: 0.6409 - accuracy: 0.6603 - val_loss: 0.6440 - val_accuracy: 0.6556\n",
      "Epoch 3/20\n",
      "43921/43921 [==============================] - 11s 260us/step - loss: 0.6409 - accuracy: 0.6603 - val_loss: 0.6439 - val_accuracy: 0.6556\n",
      "Epoch 4/20\n",
      "43921/43921 [==============================] - 11s 260us/step - loss: 0.6409 - accuracy: 0.6603 - val_loss: 0.6439 - val_accuracy: 0.6556\n",
      "Epoch 5/20\n",
      "43921/43921 [==============================] - 11s 241us/step - loss: 0.6409 - accuracy: 0.6603 - val_loss: 0.6439 - val_accuracy: 0.6556\n",
      "Epoch 6/20\n",
      "43921/43921 [==============================] - 10s 235us/step - loss: 0.6409 - accuracy: 0.6603 - val_loss: 0.6440 - val_accuracy: 0.6556\n",
      "Epoch 7/20\n",
      "43921/43921 [==============================] - 10s 229us/step - loss: 0.6409 - accuracy: 0.6603 - val_loss: 0.6440 - val_accuracy: 0.6556\n",
      "Epoch 8/20\n",
      "43921/43921 [==============================] - 10s 230us/step - loss: 0.6409 - accuracy: 0.6603 - val_loss: 0.6440 - val_accuracy: 0.6556\n",
      "Epoch 9/20\n",
      "43921/43921 [==============================] - 11s 247us/step - loss: 0.6409 - accuracy: 0.6603 - val_loss: 0.6440 - val_accuracy: 0.6556\n",
      "Epoch 10/20\n",
      "43921/43921 [==============================] - 10s 228us/step - loss: 0.6409 - accuracy: 0.6603 - val_loss: 0.6440 - val_accuracy: 0.6556\n",
      "Epoch 11/20\n",
      "43921/43921 [==============================] - 10s 227us/step - loss: 0.6409 - accuracy: 0.6603 - val_loss: 0.6440 - val_accuracy: 0.6556\n",
      "Epoch 12/20\n",
      "43921/43921 [==============================] - 10s 224us/step - loss: 0.6409 - accuracy: 0.6603 - val_loss: 0.6440 - val_accuracy: 0.6556\n",
      "Epoch 13/20\n",
      "43921/43921 [==============================] - 11s 248us/step - loss: 0.6409 - accuracy: 0.6603 - val_loss: 0.6440 - val_accuracy: 0.6556\n",
      "Epoch 14/20\n",
      "43921/43921 [==============================] - 10s 224us/step - loss: 0.6409 - accuracy: 0.6603 - val_loss: 0.6439 - val_accuracy: 0.6556\n",
      "Epoch 15/20\n",
      "43921/43921 [==============================] - 10s 229us/step - loss: 0.6409 - accuracy: 0.6603 - val_loss: 0.6440 - val_accuracy: 0.6556\n",
      "Epoch 16/20\n",
      "43921/43921 [==============================] - 10s 229us/step - loss: 0.6409 - accuracy: 0.6603 - val_loss: 0.6439 - val_accuracy: 0.6556\n",
      "Epoch 17/20\n",
      "43921/43921 [==============================] - 10s 225us/step - loss: 0.6409 - accuracy: 0.6603 - val_loss: 0.6443 - val_accuracy: 0.6556\n",
      "Epoch 18/20\n",
      "43921/43921 [==============================] - 10s 227us/step - loss: 0.6409 - accuracy: 0.6603 - val_loss: 0.6440 - val_accuracy: 0.6556\n",
      "Epoch 19/20\n",
      "43921/43921 [==============================] - 10s 225us/step - loss: 0.6409 - accuracy: 0.6603 - val_loss: 0.6439 - val_accuracy: 0.6556\n",
      "Epoch 20/20\n",
      "43921/43921 [==============================] - 10s 225us/step - loss: 0.6409 - accuracy: 0.6603 - val_loss: 0.6440 - val_accuracy: 0.6556\n"
     ]
    }
   ],
   "source": [
    "history = classifier.fit(x_train, y_train, validation_split=0.2, batch_size = 20, nb_epoch = 20)"
   ]
  },
  {
   "cell_type": "code",
   "execution_count": 11,
   "metadata": {},
   "outputs": [
    {
     "data": {
      "image/png": "[encoded data removed]",
      "text/plain": [
       "<IPython.core.display.Image object>"
      ]
     },
     "execution_count": 11,
     "metadata": {},
     "output_type": "execute_result"
    }
   ],
   "source": [
    "prediction = classifier.predict(x_test).tolist()\n",
    "plot_model(classifier, to_file=f\"model.png\")"
   ]
  },
  {
   "cell_type": "code",
   "execution_count": 12,
   "metadata": {},
   "outputs": [
    {
     "name": "stdout",
     "output_type": "stream",
     "text": [
      "accuracy: 0.6550342415853125\n",
      "Average precision-recall score: 0.66\n",
      "F1 score: 0.7915657877360567\n"
     ]
    }
   ],
   "source": [
    "res = []\n",
    "for i in prediction:\n",
    "    if i[0] >= 0.5:\n",
    "        res.append(1)\n",
    "    else:\n",
    "        res.append(0)\n",
    "\n",
    "all_c = len(y_test.index)\n",
    "right = 0\n",
    "for i in range(len(y_test)):\n",
    "    if res[i] == y_test.iloc[i]:\n",
    "        right += 1\n",
    "acc = right / all_c\n",
    "print('accuracy: {}'.format(acc))\n",
    "\n",
    "average_precision = average_precision_score(y_test, res)\n",
    "f1_score = skl.metrics.f1_score(res, y_test)\n",
    "\n",
    "print('Average precision-recall score: {0:0.2f}'.format(average_precision))\n",
    "print('F1 score: {}'.format(f1_score))"
   ]
  },
  {
   "cell_type": "code",
   "execution_count": 13,
   "metadata": {},
   "outputs": [
    {
     "name": "stdout",
     "output_type": "stream",
     "text": [
      "Train: 0.659, Test: 0.655\n"
     ]
    },
    {
     "data": {
      "image/png": "[encoded data removed]",
      "text/plain": [
       "<Figure size 432x288 with 2 Axes>"
      ]
     },
     "metadata": {
      "needs_background": "light"
     },
     "output_type": "display_data"
    }
   ],
   "source": [
    "# evaluate the model\n",
    "_, train_acc = classifier.evaluate(x_train, y_train, verbose=0)\n",
    "_, test_acc = classifier.evaluate(x_test, y_test, verbose=0)\n",
    "print('Train: %.3f, Test: %.3f' % (train_acc, test_acc))\n",
    "\n",
    "# plot loss during training\n",
    "plt.subplot(211)\n",
    "plt.title('Loss')\n",
    "plt.plot(history.history['loss'], label='train')\n",
    "plt.plot(history.history['val_loss'], label='test')\n",
    "plt.legend()\n",
    "\n",
    "# plot accuracy during training\n",
    "plt.subplot(212)\n",
    "plt.title('Accuracy')\n",
    "plt.plot(history.history['accuracy'], label='train')\n",
    "plt.plot(history.history['val_accuracy'], label='test')\n",
    "plt.legend()\n",
    "plt.show()"
   ]
  },
  {
   "cell_type": "code",
   "execution_count": 14,
   "metadata": {},
   "outputs": [],
   "source": [
    "classifier.save(\"model_tmp\")"
   ]
  },
  {
   "cell_type": "code",
   "execution_count": null,
   "metadata": {},
   "outputs": [],
   "source": []
  }
 ],
 "metadata": {
  "kernelspec": {
   "display_name": "Python 3",
   "language": "python",
   "name": "python3"
  },
  "language_info": {
   "codemirror_mode": {
    "name": "ipython",
    "version": 3
   },
   "file_extension": ".py",
   "mimetype": "text/x-python",
   "name": "python",
   "nbconvert_exporter": "python",
   "pygments_lexer": "ipython3",
   "version": "3.7.6"
  }
 },
 "nbformat": 4,
 "nbformat_minor": 4
}
