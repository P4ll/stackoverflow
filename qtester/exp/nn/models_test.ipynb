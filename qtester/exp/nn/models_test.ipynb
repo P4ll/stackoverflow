{
 "cells": [
  {
   "cell_type": "code",
   "execution_count": 2,
   "metadata": {},
   "outputs": [
    {
     "name": "stderr",
     "output_type": "stream",
     "text": [
      "Using TensorFlow backend.\n"
     ]
    }
   ],
   "source": [
    "%matplotlib inline\n",
    "import matplotlib\n",
    "import matplotlib.pyplot as plt\n",
    "\n",
    "import numpy as np\n",
    "import pandas as pd\n",
    "import sklearn as skl\n",
    "\n",
    "from keras.models import Sequential\n",
    "from keras.optimizers import SGD, RMSprop, Adam\n",
    "from keras.layers import Dense, Activation, Dropout, Flatten\n",
    "\n",
    "from sklearn.metrics import average_precision_score, mean_squared_error, roc_curve, auc, accuracy_score, classification_report\n",
    "from sklearn.preprocessing import normalize\n",
    "from sklearn.model_selection import train_test_split, KFold\n",
    "\n",
    "from sklearn.linear_model import LogisticRegression\n",
    "\n",
    "from scipy.stats import pearsonr\n",
    "\n",
    "import xgboost as xgb\n",
    "\n",
    "from keras.utils import plot_model\n",
    "from IPython.display import SVG\n",
    "from keras.utils.vis_utils import model_to_dot\n",
    "\n",
    "base_path = \"d:/work/stackoverflow/\"\n",
    "base_path_nn = base_path + \"exp/nn/\""
   ]
  },
  {
   "cell_type": "code",
   "execution_count": 5,
   "metadata": {},
   "outputs": [],
   "source": [
    "data = pd.read_csv(base_path + 'text3.csv')"
   ]
  },
  {
   "cell_type": "code",
   "execution_count": 22,
   "metadata": {},
   "outputs": [
    {
     "name": "stdout",
     "output_type": "stream",
     "text": [
      "Pearsons corr of title_overlap and ans_count: 0.012529084419127274\n",
      "Pearsons corr of title_overlap and questions_count: 0.00402793354284717\n",
      "Pearsons corr of title_overlap and reached_people: 0.008413425476845177\n",
      "Pearsons corr of title_overlap and user_rating: 0.011300141397323896\n",
      "Pearsons corr of title_overlap and post_type: 0.01194633572533909\n",
      "Pearsons corr of ans_count and title_overlap: 0.012529084419127274\n",
      "Pearsons corr of ans_count and questions_count: 0.14786385567869664\n",
      "Pearsons corr of ans_count and reached_people: 0.6290710359145083\n",
      "Pearsons corr of ans_count and user_rating: 0.8346703288412607\n",
      "Pearsons corr of ans_count and post_type: -0.018807659435680073\n",
      "Pearsons corr of questions_count and title_overlap: 0.00402793354284717\n",
      "Pearsons corr of questions_count and ans_count: 0.14786385567869664\n",
      "Pearsons corr of questions_count and reached_people: 0.3920067829366788\n",
      "Pearsons corr of questions_count and user_rating: 0.40054705600370255\n",
      "Pearsons corr of questions_count and post_type: -0.011526521315981465\n",
      "Pearsons corr of reached_people and title_overlap: 0.008413425476845177\n",
      "Pearsons corr of reached_people and ans_count: 0.6290710359145083\n",
      "Pearsons corr of reached_people and questions_count: 0.3920067829366788\n",
      "Pearsons corr of reached_people and user_rating: 0.7842968420186289\n",
      "Pearsons corr of reached_people and post_type: -0.017426230480712134\n",
      "Pearsons corr of user_rating and title_overlap: 0.011300141397323896\n",
      "Pearsons corr of user_rating and ans_count: 0.8346703288412607\n",
      "Pearsons corr of user_rating and questions_count: 0.40054705600370255\n",
      "Pearsons corr of user_rating and reached_people: 0.7842968420186289\n",
      "Pearsons corr of user_rating and post_type: -0.023715669561415107\n",
      "Pearsons corr of post_type and title_overlap: 0.01194633572533909\n",
      "Pearsons corr of post_type and ans_count: -0.018807659435680073\n",
      "Pearsons corr of post_type and questions_count: -0.011526521315981465\n",
      "Pearsons corr of post_type and reached_people: -0.017426230480712134\n",
      "Pearsons corr of post_type and user_rating: -0.023715669561415107\n"
     ]
    }
   ],
   "source": [
    "arr = ['title_overlap', 'ans_count', 'questions_count', 'reached_people', 'user_rating', 'post_type']\n",
    "for i, w in enumerate(arr):\n",
    "    for j, v in enumerate(arr):\n",
    "        if j != i:\n",
    "            corr, _ = pearsonr(data[w], data[v])\n",
    "            print('Pearsons corr of {} and {}: {}'.format(w, v, corr))"
   ]
  },
  {
   "cell_type": "code",
   "execution_count": 2,
   "metadata": {},
   "outputs": [
    {
     "data": {
      "text/plain": [
       "['/device:GPU:0']"
      ]
     },
     "execution_count": 2,
     "metadata": {},
     "output_type": "execute_result"
    }
   ],
   "source": [
    "from keras import backend as K\n",
    "K.tensorflow_backend._get_available_gpus()"
   ]
  },
  {
   "cell_type": "code",
   "execution_count": 25,
   "metadata": {},
   "outputs": [],
   "source": [
    "def data_divider(data, per=0.8, shuffle=True):\n",
    "    if shuffle:\n",
    "        data = data.sample(frac=1).reset_index(drop=True)\n",
    "    rr = round(len(data.index) * per)\n",
    "    return data[:rr], data[rr:]\n",
    "\n",
    "def get_norms(ser):\n",
    "    return normalize(ser[:,np.newaxis], axis=0).ravel()\n",
    "    #return [[i] for i in normalize(ser[:,np.newaxis], axis=0).ravel()]"
   ]
  },
  {
   "cell_type": "code",
   "execution_count": 26,
   "metadata": {
    "scrolled": true
   },
   "outputs": [
    {
     "data": {
      "text/html": [
       "<div>\n",
       "<style scoped>\n",
       "    .dataframe tbody tr th:only-of-type {\n",
       "        vertical-align: middle;\n",
       "    }\n",
       "\n",
       "    .dataframe tbody tr th {\n",
       "        vertical-align: top;\n",
       "    }\n",
       "\n",
       "    .dataframe thead th {\n",
       "        text-align: right;\n",
       "    }\n",
       "</style>\n",
       "<table border=\"1\" class=\"dataframe\">\n",
       "  <thead>\n",
       "    <tr style=\"text-align: right;\">\n",
       "      <th></th>\n",
       "      <th>questions_count</th>\n",
       "      <th>reached_people</th>\n",
       "      <th>debug_inf</th>\n",
       "      <th>title_overlap</th>\n",
       "      <th>post_type</th>\n",
       "      <th>lda0</th>\n",
       "      <th>lda1</th>\n",
       "      <th>lda2</th>\n",
       "      <th>lda3</th>\n",
       "      <th>lda4</th>\n",
       "      <th>...</th>\n",
       "      <th>lda290</th>\n",
       "      <th>lda291</th>\n",
       "      <th>lda292</th>\n",
       "      <th>lda293</th>\n",
       "      <th>lda294</th>\n",
       "      <th>lda295</th>\n",
       "      <th>lda296</th>\n",
       "      <th>lda297</th>\n",
       "      <th>lda298</th>\n",
       "      <th>lda299</th>\n",
       "    </tr>\n",
       "  </thead>\n",
       "  <tbody>\n",
       "    <tr>\n",
       "      <th>0</th>\n",
       "      <td>0.000156</td>\n",
       "      <td>5.716300e-07</td>\n",
       "      <td>0</td>\n",
       "      <td>0.000000</td>\n",
       "      <td>2</td>\n",
       "      <td>0.0</td>\n",
       "      <td>0.0</td>\n",
       "      <td>0.0</td>\n",
       "      <td>0.000000</td>\n",
       "      <td>0.0</td>\n",
       "      <td>...</td>\n",
       "      <td>0.000000</td>\n",
       "      <td>0.000000</td>\n",
       "      <td>0.0</td>\n",
       "      <td>0.0</td>\n",
       "      <td>0.000000</td>\n",
       "      <td>0.0</td>\n",
       "      <td>0.0</td>\n",
       "      <td>0.0</td>\n",
       "      <td>0.0</td>\n",
       "      <td>0.0</td>\n",
       "    </tr>\n",
       "    <tr>\n",
       "      <th>1</th>\n",
       "      <td>0.001131</td>\n",
       "      <td>2.486462e-04</td>\n",
       "      <td>0</td>\n",
       "      <td>0.004777</td>\n",
       "      <td>2</td>\n",
       "      <td>0.0</td>\n",
       "      <td>0.0</td>\n",
       "      <td>0.0</td>\n",
       "      <td>0.000000</td>\n",
       "      <td>0.0</td>\n",
       "      <td>...</td>\n",
       "      <td>0.000000</td>\n",
       "      <td>0.000000</td>\n",
       "      <td>0.0</td>\n",
       "      <td>0.0</td>\n",
       "      <td>0.000000</td>\n",
       "      <td>0.0</td>\n",
       "      <td>0.0</td>\n",
       "      <td>0.0</td>\n",
       "      <td>0.0</td>\n",
       "      <td>0.0</td>\n",
       "    </tr>\n",
       "    <tr>\n",
       "      <th>2</th>\n",
       "      <td>0.019340</td>\n",
       "      <td>8.971771e-03</td>\n",
       "      <td>0</td>\n",
       "      <td>0.005012</td>\n",
       "      <td>2</td>\n",
       "      <td>0.0</td>\n",
       "      <td>0.0</td>\n",
       "      <td>0.0</td>\n",
       "      <td>0.050483</td>\n",
       "      <td>0.0</td>\n",
       "      <td>...</td>\n",
       "      <td>0.024479</td>\n",
       "      <td>0.024474</td>\n",
       "      <td>0.0</td>\n",
       "      <td>0.0</td>\n",
       "      <td>0.024297</td>\n",
       "      <td>0.0</td>\n",
       "      <td>0.0</td>\n",
       "      <td>0.0</td>\n",
       "      <td>0.0</td>\n",
       "      <td>0.0</td>\n",
       "    </tr>\n",
       "    <tr>\n",
       "      <th>3</th>\n",
       "      <td>0.000312</td>\n",
       "      <td>1.384216e-06</td>\n",
       "      <td>0</td>\n",
       "      <td>0.004746</td>\n",
       "      <td>2</td>\n",
       "      <td>0.0</td>\n",
       "      <td>0.0</td>\n",
       "      <td>0.0</td>\n",
       "      <td>0.000000</td>\n",
       "      <td>0.0</td>\n",
       "      <td>...</td>\n",
       "      <td>0.000000</td>\n",
       "      <td>0.000000</td>\n",
       "      <td>0.0</td>\n",
       "      <td>0.0</td>\n",
       "      <td>0.000000</td>\n",
       "      <td>0.0</td>\n",
       "      <td>0.0</td>\n",
       "      <td>0.0</td>\n",
       "      <td>0.0</td>\n",
       "      <td>0.0</td>\n",
       "    </tr>\n",
       "    <tr>\n",
       "      <th>4</th>\n",
       "      <td>0.000078</td>\n",
       "      <td>6.152072e-07</td>\n",
       "      <td>0</td>\n",
       "      <td>0.000000</td>\n",
       "      <td>2</td>\n",
       "      <td>0.0</td>\n",
       "      <td>0.0</td>\n",
       "      <td>0.0</td>\n",
       "      <td>0.000000</td>\n",
       "      <td>0.0</td>\n",
       "      <td>...</td>\n",
       "      <td>0.000000</td>\n",
       "      <td>0.000000</td>\n",
       "      <td>0.0</td>\n",
       "      <td>0.0</td>\n",
       "      <td>0.000000</td>\n",
       "      <td>0.0</td>\n",
       "      <td>0.0</td>\n",
       "      <td>0.0</td>\n",
       "      <td>0.0</td>\n",
       "      <td>0.0</td>\n",
       "    </tr>\n",
       "  </tbody>\n",
       "</table>\n",
       "<p>5 rows × 305 columns</p>\n",
       "</div>"
      ],
      "text/plain": [
       "   questions_count  reached_people  debug_inf  title_overlap  post_type  lda0  \\\n",
       "0         0.000156    5.716300e-07          0       0.000000          2   0.0   \n",
       "1         0.001131    2.486462e-04          0       0.004777          2   0.0   \n",
       "2         0.019340    8.971771e-03          0       0.005012          2   0.0   \n",
       "3         0.000312    1.384216e-06          0       0.004746          2   0.0   \n",
       "4         0.000078    6.152072e-07          0       0.000000          2   0.0   \n",
       "\n",
       "   lda1  lda2      lda3  lda4  ...    lda290    lda291  lda292  lda293  \\\n",
       "0   0.0   0.0  0.000000   0.0  ...  0.000000  0.000000     0.0     0.0   \n",
       "1   0.0   0.0  0.000000   0.0  ...  0.000000  0.000000     0.0     0.0   \n",
       "2   0.0   0.0  0.050483   0.0  ...  0.024479  0.024474     0.0     0.0   \n",
       "3   0.0   0.0  0.000000   0.0  ...  0.000000  0.000000     0.0     0.0   \n",
       "4   0.0   0.0  0.000000   0.0  ...  0.000000  0.000000     0.0     0.0   \n",
       "\n",
       "     lda294  lda295  lda296  lda297  lda298  lda299  \n",
       "0  0.000000     0.0     0.0     0.0     0.0     0.0  \n",
       "1  0.000000     0.0     0.0     0.0     0.0     0.0  \n",
       "2  0.024297     0.0     0.0     0.0     0.0     0.0  \n",
       "3  0.000000     0.0     0.0     0.0     0.0     0.0  \n",
       "4  0.000000     0.0     0.0     0.0     0.0     0.0  \n",
       "\n",
       "[5 rows x 305 columns]"
      ]
     },
     "execution_count": 26,
     "metadata": {},
     "output_type": "execute_result"
    }
   ],
   "source": [
    "data = pd.read_csv(base_path + 'text3.csv')\n",
    "data = data[:50000]\n",
    "\n",
    "#data['lda'] = [[float(b) for b in a.strip('[]').split(', ')] for a in data['lda']]\n",
    "#data['lda'] = data['lda'].tolist()\n",
    "\n",
    "data['title_overlap'] = get_norms(data['title_overlap'])\n",
    "data['ans_count'] = get_norms(data['ans_count'])\n",
    "data['questions_count'] = get_norms(data['questions_count'])\n",
    "data['reached_people'] = get_norms(data['reached_people'])\n",
    "data['user_rating'] = get_norms(data['user_rating'])\n",
    "\n",
    "data = data.drop(['id_post', 'id_user', 'user_rating', 'ans_count'], axis=1)\n",
    "\n",
    "train_data, test_data = data_divider(data)\n",
    "x_train = train_data.drop('post_type', axis=1)\n",
    "y_train = train_data['post_type']\n",
    "x_test = test_data.drop('post_type', axis=1)\n",
    "y_test = test_data['post_type']\n",
    "\n",
    "data[:5]"
   ]
  },
  {
   "cell_type": "code",
   "execution_count": 27,
   "metadata": {
    "scrolled": true
   },
   "outputs": [
    {
     "name": "stderr",
     "output_type": "stream",
     "text": [
      "d:\\programs\\python3\\lib\\site-packages\\ipykernel_launcher.py:3: UserWarning: Update your `Dense` call to the Keras 2 API: `Dense(activation=\"relu\", input_dim=304, units=30, kernel_initializer=\"uniform\")`\n",
      "  This is separate from the ipykernel package so we can avoid doing imports until\n",
      "d:\\programs\\python3\\lib\\site-packages\\ipykernel_launcher.py:15: UserWarning: Update your `Dense` call to the Keras 2 API: `Dense(activation=\"relu\", units=20, kernel_initializer=\"uniform\")`\n",
      "  from ipykernel import kernelapp as app\n",
      "d:\\programs\\python3\\lib\\site-packages\\ipykernel_launcher.py:18: UserWarning: Update your `Dense` call to the Keras 2 API: `Dense(activation=\"relu\", units=10, kernel_initializer=\"uniform\")`\n",
      "d:\\programs\\python3\\lib\\site-packages\\ipykernel_launcher.py:21: UserWarning: Update your `Dense` call to the Keras 2 API: `Dense(activation=\"relu\", units=10, kernel_initializer=\"uniform\")`\n",
      "d:\\programs\\python3\\lib\\site-packages\\ipykernel_launcher.py:24: UserWarning: Update your `Dense` call to the Keras 2 API: `Dense(activation=\"relu\", units=5, kernel_initializer=\"uniform\")`\n",
      "d:\\programs\\python3\\lib\\site-packages\\ipykernel_launcher.py:27: UserWarning: Update your `Dense` call to the Keras 2 API: `Dense(activation=\"relu\", units=5, kernel_initializer=\"uniform\")`\n",
      "d:\\programs\\python3\\lib\\site-packages\\ipykernel_launcher.py:30: UserWarning: Update your `Dense` call to the Keras 2 API: `Dense(activation=\"sigmoid\", units=3, kernel_initializer=\"uniform\")`\n"
     ]
    }
   ],
   "source": [
    "classifier = Sequential()\n",
    "\n",
    "classifier.add(Dense(output_dim = 30, init = 'uniform', activation = 'relu', input_dim = x_train.shape[1]))\n",
    "#classifier.add(Dropout(0.2, noise_shape=None, seed=None))\n",
    "\n",
    "#classifier.add(Dense(output_dim = 180, init = 'uniform', activation = 'relu'))\n",
    "#classifier.add(Dropout(0.2, noise_shape=None, seed=None))\n",
    "\n",
    "#classifier.add(Dense(output_dim = 100, init = 'uniform', activation = 'relu'))\n",
    "#classifier.add(Dropout(0.3, noise_shape=None, seed=None))\n",
    "\n",
    "#classifier.add(Dense(output_dim = 30, init = 'uniform', activation = 'relu'))\n",
    "#classifier.add(Dropout(0.4, noise_shape=None, seed=None))\n",
    "\n",
    "classifier.add(Dense(output_dim = 20, init = 'uniform', activation = 'relu'))\n",
    "classifier.add(Dropout(0.2, noise_shape=None, seed=None))\n",
    "\n",
    "classifier.add(Dense(output_dim = 10, init = 'uniform', activation = 'relu'))\n",
    "classifier.add(Dropout(0.2, noise_shape=None, seed=None))\n",
    "\n",
    "classifier.add(Dense(output_dim = 10, init = 'uniform', activation = 'relu'))\n",
    "classifier.add(Dropout(0.4, noise_shape=None, seed=None))\n",
    "\n",
    "classifier.add(Dense(output_dim = 5, init = 'uniform', activation = 'relu'))\n",
    "classifier.add(Dropout(0.2, noise_shape=None, seed=None))\n",
    "\n",
    "classifier.add(Dense(output_dim = 5, init = 'uniform', activation = 'relu'))\n",
    "classifier.add(Dropout(0.2, noise_shape=None, seed=None))\n",
    "\n",
    "classifier.add(Dense(output_dim = 3, init = 'uniform', activation = 'sigmoid'))\n",
    "classifier.compile(optimizer = 'rmsprop', loss = 'sparse_categorical_crossentropy', metrics = ['accuracy'])"
   ]
  },
  {
   "cell_type": "code",
   "execution_count": 28,
   "metadata": {
    "scrolled": true
   },
   "outputs": [
    {
     "name": "stderr",
     "output_type": "stream",
     "text": [
      "d:\\programs\\python3\\lib\\site-packages\\ipykernel_launcher.py:3: UserWarning: The `nb_epoch` argument in `fit` has been renamed `epochs`.\n",
      "  This is separate from the ipykernel package so we can avoid doing imports until\n"
     ]
    },
    {
     "name": "stdout",
     "output_type": "stream",
     "text": [
      "Model: \"sequential_1\"\n",
      "_________________________________________________________________\n",
      "Layer (type)                 Output Shape              Param #   \n",
      "=================================================================\n",
      "dense_1 (Dense)              (None, 30)                9150      \n",
      "_________________________________________________________________\n",
      "dense_2 (Dense)              (None, 20)                620       \n",
      "_________________________________________________________________\n",
      "dropout_1 (Dropout)          (None, 20)                0         \n",
      "_________________________________________________________________\n",
      "dense_3 (Dense)              (None, 10)                210       \n",
      "_________________________________________________________________\n",
      "dropout_2 (Dropout)          (None, 10)                0         \n",
      "_________________________________________________________________\n",
      "dense_4 (Dense)              (None, 10)                110       \n",
      "_________________________________________________________________\n",
      "dropout_3 (Dropout)          (None, 10)                0         \n",
      "_________________________________________________________________\n",
      "dense_5 (Dense)              (None, 5)                 55        \n",
      "_________________________________________________________________\n",
      "dropout_4 (Dropout)          (None, 5)                 0         \n",
      "_________________________________________________________________\n",
      "dense_6 (Dense)              (None, 5)                 30        \n",
      "_________________________________________________________________\n",
      "dropout_5 (Dropout)          (None, 5)                 0         \n",
      "_________________________________________________________________\n",
      "dense_7 (Dense)              (None, 3)                 18        \n",
      "=================================================================\n",
      "Total params: 10,193\n",
      "Trainable params: 10,193\n",
      "Non-trainable params: 0\n",
      "_________________________________________________________________\n",
      "Train on 32000 samples, validate on 8000 samples\n",
      "Epoch 1/50\n",
      "32000/32000 [==============================] - 4s 138us/step - loss: 1.0357 - accuracy: 0.6514 - val_loss: 0.9683 - val_accuracy: 0.6501\n",
      "Epoch 2/50\n",
      "32000/32000 [==============================] - 2s 54us/step - loss: 0.9000 - accuracy: 0.6553 - val_loss: 0.8435 - val_accuracy: 0.6501\n",
      "Epoch 3/50\n",
      "32000/32000 [==============================] - 2s 51us/step - loss: 0.8126 - accuracy: 0.6553 - val_loss: 0.7996 - val_accuracy: 0.6501\n",
      "Epoch 4/50\n",
      "32000/32000 [==============================] - 2s 52us/step - loss: 0.7968 - accuracy: 0.6553 - val_loss: 0.7988 - val_accuracy: 0.6501\n",
      "Epoch 5/50\n",
      "32000/32000 [==============================] - 2s 51us/step - loss: 0.7956 - accuracy: 0.6553 - val_loss: 0.7988 - val_accuracy: 0.6501\n",
      "Epoch 6/50\n",
      "32000/32000 [==============================] - 2s 51us/step - loss: 0.7953 - accuracy: 0.6553 - val_loss: 0.7988 - val_accuracy: 0.6501\n",
      "Epoch 7/50\n",
      "32000/32000 [==============================] - 2s 51us/step - loss: 0.7945 - accuracy: 0.6553 - val_loss: 0.7987 - val_accuracy: 0.6501\n",
      "Epoch 8/50\n",
      "32000/32000 [==============================] - 2s 51us/step - loss: 0.7939 - accuracy: 0.6553 - val_loss: 0.7988 - val_accuracy: 0.6501\n",
      "Epoch 9/50\n",
      "32000/32000 [==============================] - 2s 51us/step - loss: 0.7943 - accuracy: 0.6553 - val_loss: 0.7987 - val_accuracy: 0.6501\n",
      "Epoch 10/50\n",
      "32000/32000 [==============================] - 2s 52us/step - loss: 0.7932 - accuracy: 0.6553 - val_loss: 0.7988 - val_accuracy: 0.6501\n",
      "Epoch 11/50\n",
      "32000/32000 [==============================] - 2s 51us/step - loss: 0.7919 - accuracy: 0.6553 - val_loss: 0.7988 - val_accuracy: 0.6501\n",
      "Epoch 12/50\n",
      "32000/32000 [==============================] - 2s 50us/step - loss: 0.7925 - accuracy: 0.6553 - val_loss: 0.7987 - val_accuracy: 0.6501\n",
      "Epoch 13/50\n",
      "32000/32000 [==============================] - 2s 50us/step - loss: 0.7920 - accuracy: 0.6553 - val_loss: 0.7988 - val_accuracy: 0.6501\n",
      "Epoch 14/50\n",
      "32000/32000 [==============================] - 2s 50us/step - loss: 0.7920 - accuracy: 0.6553 - val_loss: 0.7988 - val_accuracy: 0.6501\n",
      "Epoch 15/50\n",
      "32000/32000 [==============================] - 2s 52us/step - loss: 0.7917 - accuracy: 0.6553 - val_loss: 0.7988 - val_accuracy: 0.6501\n",
      "Epoch 16/50\n",
      "32000/32000 [==============================] - 2s 51us/step - loss: 0.7916 - accuracy: 0.6553 - val_loss: 0.7987 - val_accuracy: 0.6501\n",
      "Epoch 17/50\n",
      "32000/32000 [==============================] - 2s 51us/step - loss: 0.7909 - accuracy: 0.6553 - val_loss: 0.7988 - val_accuracy: 0.6501\n",
      "Epoch 18/50\n",
      "32000/32000 [==============================] - 2s 51us/step - loss: 0.7914 - accuracy: 0.6553 - val_loss: 0.7988 - val_accuracy: 0.6501\n",
      "Epoch 19/50\n",
      "32000/32000 [==============================] - 2s 50us/step - loss: 0.7906 - accuracy: 0.6553 - val_loss: 0.7988 - val_accuracy: 0.6501\n",
      "Epoch 20/50\n",
      "32000/32000 [==============================] - 2s 50us/step - loss: 0.7911 - accuracy: 0.6553 - val_loss: 0.7988 - val_accuracy: 0.6501\n",
      "Epoch 21/50\n",
      "32000/32000 [==============================] - 2s 50us/step - loss: 0.7911 - accuracy: 0.6553 - val_loss: 0.7988 - val_accuracy: 0.6501\n",
      "Epoch 22/50\n",
      "32000/32000 [==============================] - 2s 50us/step - loss: 0.7912 - accuracy: 0.6553 - val_loss: 0.7988 - val_accuracy: 0.6501\n",
      "Epoch 23/50\n",
      "32000/32000 [==============================] - 2s 50us/step - loss: 0.7907 - accuracy: 0.6553 - val_loss: 0.7988 - val_accuracy: 0.6501\n",
      "Epoch 24/50\n",
      "32000/32000 [==============================] - 2s 50us/step - loss: 0.7907 - accuracy: 0.6553 - val_loss: 0.7988 - val_accuracy: 0.6501\n",
      "Epoch 25/50\n",
      "32000/32000 [==============================] - 2s 51us/step - loss: 0.7904 - accuracy: 0.6553 - val_loss: 0.7987 - val_accuracy: 0.6501\n",
      "Epoch 26/50\n",
      "32000/32000 [==============================] - 2s 50us/step - loss: 0.7905 - accuracy: 0.6553 - val_loss: 0.7988 - val_accuracy: 0.6501\n",
      "Epoch 27/50\n",
      "32000/32000 [==============================] - 2s 51us/step - loss: 0.7901 - accuracy: 0.6553 - val_loss: 0.7988 - val_accuracy: 0.6501\n",
      "Epoch 28/50\n",
      "32000/32000 [==============================] - 2s 51us/step - loss: 0.7902 - accuracy: 0.6553 - val_loss: 0.7988 - val_accuracy: 0.6501\n",
      "Epoch 29/50\n",
      "32000/32000 [==============================] - 2s 50us/step - loss: 0.7904 - accuracy: 0.6553 - val_loss: 0.7988 - val_accuracy: 0.6501\n",
      "Epoch 30/50\n",
      "32000/32000 [==============================] - 2s 50us/step - loss: 0.7902 - accuracy: 0.6553 - val_loss: 0.7988 - val_accuracy: 0.6501\n",
      "Epoch 31/50\n",
      "32000/32000 [==============================] - 2s 51us/step - loss: 0.7900 - accuracy: 0.6553 - val_loss: 0.7988 - val_accuracy: 0.6501\n",
      "Epoch 32/50\n",
      "32000/32000 [==============================] - 2s 51us/step - loss: 0.7900 - accuracy: 0.6553 - val_loss: 0.7988 - val_accuracy: 0.6501\n",
      "Epoch 33/50\n",
      "32000/32000 [==============================] - 2s 53us/step - loss: 0.7898 - accuracy: 0.6553 - val_loss: 0.7988 - val_accuracy: 0.6501\n",
      "Epoch 34/50\n",
      "32000/32000 [==============================] - 2s 51us/step - loss: 0.7897 - accuracy: 0.6553 - val_loss: 0.7989 - val_accuracy: 0.6501\n",
      "Epoch 35/50\n",
      "32000/32000 [==============================] - 2s 51us/step - loss: 0.7900 - accuracy: 0.6553 - val_loss: 0.7988 - val_accuracy: 0.6501\n",
      "Epoch 36/50\n",
      "32000/32000 [==============================] - 2s 51us/step - loss: 0.7899 - accuracy: 0.6553 - val_loss: 0.7988 - val_accuracy: 0.6501\n",
      "Epoch 37/50\n",
      "32000/32000 [==============================] - 2s 52us/step - loss: 0.7901 - accuracy: 0.6553 - val_loss: 0.7988 - val_accuracy: 0.6501\n",
      "Epoch 38/50\n",
      "32000/32000 [==============================] - 2s 51us/step - loss: 0.7895 - accuracy: 0.6553 - val_loss: 0.7988 - val_accuracy: 0.6501\n",
      "Epoch 39/50\n",
      "32000/32000 [==============================] - 2s 52us/step - loss: 0.7896 - accuracy: 0.6553 - val_loss: 0.7989 - val_accuracy: 0.6501\n",
      "Epoch 40/50\n",
      "32000/32000 [==============================] - 2s 52us/step - loss: 0.7896 - accuracy: 0.6553 - val_loss: 0.7988 - val_accuracy: 0.6501\n",
      "Epoch 41/50\n",
      "32000/32000 [==============================] - 2s 51us/step - loss: 0.7897 - accuracy: 0.6553 - val_loss: 0.7988 - val_accuracy: 0.6501\n",
      "Epoch 42/50\n",
      "32000/32000 [==============================] - 2s 51us/step - loss: 0.7894 - accuracy: 0.6553 - val_loss: 0.7988 - val_accuracy: 0.6501\n"
     ]
    },
    {
     "name": "stdout",
     "output_type": "stream",
     "text": [
      "Epoch 43/50\n",
      "32000/32000 [==============================] - 2s 50us/step - loss: 0.7895 - accuracy: 0.6553 - val_loss: 0.7988 - val_accuracy: 0.6501\n",
      "Epoch 44/50\n",
      "32000/32000 [==============================] - 2s 50us/step - loss: 0.7897 - accuracy: 0.6553 - val_loss: 0.7988 - val_accuracy: 0.6501\n",
      "Epoch 45/50\n",
      "32000/32000 [==============================] - 2s 54us/step - loss: 0.7898 - accuracy: 0.6553 - val_loss: 0.7988 - val_accuracy: 0.6501\n",
      "Epoch 46/50\n",
      "32000/32000 [==============================] - 2s 78us/step - loss: 0.7894 - accuracy: 0.6553 - val_loss: 0.7988 - val_accuracy: 0.6501\n",
      "Epoch 47/50\n",
      "32000/32000 [==============================] - 2s 70us/step - loss: 0.7893 - accuracy: 0.6553 - val_loss: 0.7989 - val_accuracy: 0.6501\n",
      "Epoch 48/50\n",
      "32000/32000 [==============================] - 2s 69us/step - loss: 0.7897 - accuracy: 0.6553 - val_loss: 0.7988 - val_accuracy: 0.6501\n",
      "Epoch 49/50\n",
      "32000/32000 [==============================] - 2s 62us/step - loss: 0.7894 - accuracy: 0.6553 - val_loss: 0.7989 - val_accuracy: 0.6501\n",
      "Epoch 50/50\n",
      "32000/32000 [==============================] - 2s 65us/step - loss: 0.7892 - accuracy: 0.6553 - val_loss: 0.7989 - val_accuracy: 0.6501\n"
     ]
    }
   ],
   "source": [
    "classifier.summary()\n",
    "\n",
    "history = classifier.fit(x_train, y_train, validation_split=0.2, batch_size = 128, nb_epoch = 50, verbose=1)\n",
    "\n",
    "#classifier.save(\"model_tmp.ser\")"
   ]
  },
  {
   "cell_type": "code",
   "execution_count": 29,
   "metadata": {},
   "outputs": [],
   "source": [
    "def res_eval(goal, res):\n",
    "    #eval_res(res, y_test, history)\n",
    "    print('classification report')\n",
    "    print(classification_report(goal, res))\n",
    "    print('confusion matrix')\n",
    "    print(skl.metrics.confusion_matrix(goal, res))\n",
    "    f1_score = skl.metrics.f1_score(goal, res, average=\"micro\")\n",
    "    print('F1 score: {}'.format(f1_score))\n",
    "    \n",
    "    fpr, tpr, thresholds = roc_curve(goal, res, pos_label=2)\n",
    "    au_curve = auc(fpr, tpr)\n",
    "\n",
    "    plt.figure(1)\n",
    "    plt.plot([0, 1], [0, 1], 'k--')\n",
    "    plt.plot(fpr, tpr, label='area = {:.3f}'.format(au_curve))\n",
    "    plt.xlabel('False positive rate')\n",
    "    plt.ylabel('True positive rate')\n",
    "    plt.title('ROC curve')\n",
    "    plt.legend(loc='best')\n",
    "    plt.show()"
   ]
  },
  {
   "cell_type": "code",
   "execution_count": 30,
   "metadata": {},
   "outputs": [
    {
     "name": "stdout",
     "output_type": "stream",
     "text": [
      "classification report\n"
     ]
    },
    {
     "name": "stderr",
     "output_type": "stream",
     "text": [
      "d:\\programs\\python3\\lib\\site-packages\\sklearn\\metrics\\_classification.py:1221: UndefinedMetricWarning: Precision and F-score are ill-defined and being set to 0.0 in labels with no predicted samples. Use `zero_division` parameter to control this behavior.\n",
      "  _warn_prf(average, modifier, msg_start, len(result))\n"
     ]
    },
    {
     "name": "stdout",
     "output_type": "stream",
     "text": [
      "              precision    recall  f1-score   support\n",
      "\n",
      "           0       0.00      0.00      0.00       510\n",
      "           1       0.00      0.00      0.00      2943\n",
      "           2       0.65      1.00      0.79      6547\n",
      "\n",
      "    accuracy                           0.65     10000\n",
      "   macro avg       0.22      0.33      0.26     10000\n",
      "weighted avg       0.43      0.65      0.52     10000\n",
      "\n",
      "confusion matrix\n",
      "[[   0    0  510]\n",
      " [   0    0 2943]\n",
      " [   0    0 6547]]\n",
      "F1 score: 0.6547\n"
     ]
    },
    {
     "data": {
      "image/png": "[encoded data removed]",
      "text/plain": [
       "<Figure size 432x288 with 1 Axes>"
      ]
     },
     "metadata": {
      "needs_background": "light"
     },
     "output_type": "display_data"
    },
    {
     "name": "stdout",
     "output_type": "stream",
     "text": [
      "Train: 0.654, Test: 0.655\n"
     ]
    },
    {
     "data": {
      "image/png": "[encoded data removed]",
      "text/plain": [
       "<Figure size 432x288 with 1 Axes>"
      ]
     },
     "metadata": {
      "needs_background": "light"
     },
     "output_type": "display_data"
    },
    {
     "data": {
      "image/png": "[encoded data removed]",
      "text/plain": [
       "<Figure size 432x288 with 1 Axes>"
      ]
     },
     "metadata": {
      "needs_background": "light"
     },
     "output_type": "display_data"
    }
   ],
   "source": [
    "prediction = classifier.predict(x_test).tolist()\n",
    "plot_model(classifier, to_file=\"model.png\")\n",
    "\n",
    "res = np.argmax(prediction, axis=1)\n",
    "\n",
    "res_eval(y_test, res)\n",
    "        \n",
    "_, train_acc = classifier.evaluate(x_train, y_train, verbose=0)\n",
    "_, test_acc = classifier.evaluate(x_test, y_test, verbose=0)\n",
    "print('Train: %.3f, Test: %.3f' % (train_acc, test_acc))\n",
    "\n",
    "plt.figure(1)\n",
    "#plt.subplot(211)\n",
    "plt.title('Loss')\n",
    "plt.plot(history.history['loss'], label='train')\n",
    "plt.plot(history.history['val_loss'], label='test')\n",
    "plt.legend()\n",
    "\n",
    "plt.figure(2)\n",
    "#plt.subplot(212)\n",
    "plt.title('Accuracy')\n",
    "plt.plot(history.history['accuracy'], label='train')\n",
    "plt.plot(history.history['val_accuracy'], label='test')\n",
    "plt.legend()\n",
    "plt.show()"
   ]
  },
  {
   "cell_type": "code",
   "execution_count": 39,
   "metadata": {},
   "outputs": [
    {
     "name": "stdout",
     "output_type": "stream",
     "text": [
      "(306, 30)\n",
      "(30,)\n",
      "(30, 20)\n",
      "(20,)\n",
      "(20, 10)\n",
      "(10,)\n",
      "(10, 10)\n",
      "(10,)\n",
      "(10, 5)\n",
      "(5,)\n",
      "(5, 5)\n",
      "(5,)\n",
      "(5, 3)\n",
      "(3,)\n"
     ]
    }
   ],
   "source": [
    "weights = classifier.get_weights()\n",
    "for w in weights:\n",
    "    print(w.shape)"
   ]
  },
  {
   "cell_type": "code",
   "execution_count": 6,
   "metadata": {},
   "outputs": [
    {
     "name": "stdout",
     "output_type": "stream",
     "text": [
      "classification report\n",
      "              precision    recall  f1-score   support\n",
      "\n",
      "           0       0.37      0.01      0.02      1746\n",
      "           1       0.61      0.23      0.33      6226\n",
      "           2       0.68      0.94      0.79     14556\n",
      "\n",
      "    accuracy                           0.67     22528\n",
      "   macro avg       0.55      0.39      0.38     22528\n",
      "weighted avg       0.64      0.67      0.60     22528\n",
      "\n",
      "confusion matrix\n",
      "[[   14   109  1623]\n",
      " [    2  1405  4819]\n",
      " [   22   779 13755]]\n"
     ]
    },
    {
     "ename": "NameError",
     "evalue": "name 'prediction' is not defined",
     "output_type": "error",
     "traceback": [
      "\u001b[1;31m---------------------------------------------------------------------------\u001b[0m",
      "\u001b[1;31mNameError\u001b[0m                                 Traceback (most recent call last)",
      "\u001b[1;32m<ipython-input-6-2cb368a9f4a8>\u001b[0m in \u001b[0;36m<module>\u001b[1;34m\u001b[0m\n\u001b[0;32m      2\u001b[0m \u001b[0mmodel\u001b[0m\u001b[1;33m.\u001b[0m\u001b[0mfit\u001b[0m\u001b[1;33m(\u001b[0m\u001b[0mx_train\u001b[0m\u001b[1;33m,\u001b[0m \u001b[0my_train\u001b[0m\u001b[1;33m)\u001b[0m\u001b[1;33m\u001b[0m\u001b[1;33m\u001b[0m\u001b[0m\n\u001b[0;32m      3\u001b[0m \u001b[0mres\u001b[0m \u001b[1;33m=\u001b[0m \u001b[0mmodel\u001b[0m\u001b[1;33m.\u001b[0m\u001b[0mpredict\u001b[0m\u001b[1;33m(\u001b[0m\u001b[0mx_test\u001b[0m\u001b[1;33m)\u001b[0m\u001b[1;33m\u001b[0m\u001b[1;33m\u001b[0m\u001b[0m\n\u001b[1;32m----> 4\u001b[1;33m \u001b[0mres_eval\u001b[0m\u001b[1;33m(\u001b[0m\u001b[0my_test\u001b[0m\u001b[1;33m,\u001b[0m \u001b[0mres\u001b[0m\u001b[1;33m)\u001b[0m\u001b[1;33m\u001b[0m\u001b[1;33m\u001b[0m\u001b[0m\n\u001b[0m",
      "\u001b[1;32m<ipython-input-5-677bb2b623f7>\u001b[0m in \u001b[0;36mres_eval\u001b[1;34m(goal, res)\u001b[0m\n\u001b[0;32m      5\u001b[0m     \u001b[0mprint\u001b[0m\u001b[1;33m(\u001b[0m\u001b[1;34m'confusion matrix'\u001b[0m\u001b[1;33m)\u001b[0m\u001b[1;33m\u001b[0m\u001b[1;33m\u001b[0m\u001b[0m\n\u001b[0;32m      6\u001b[0m     \u001b[0mprint\u001b[0m\u001b[1;33m(\u001b[0m\u001b[0mskl\u001b[0m\u001b[1;33m.\u001b[0m\u001b[0mmetrics\u001b[0m\u001b[1;33m.\u001b[0m\u001b[0mconfusion_matrix\u001b[0m\u001b[1;33m(\u001b[0m\u001b[0mgoal\u001b[0m\u001b[1;33m,\u001b[0m \u001b[0mres\u001b[0m\u001b[1;33m)\u001b[0m\u001b[1;33m)\u001b[0m\u001b[1;33m\u001b[0m\u001b[1;33m\u001b[0m\u001b[0m\n\u001b[1;32m----> 7\u001b[1;33m     \u001b[0mf1_score\u001b[0m \u001b[1;33m=\u001b[0m \u001b[0mskl\u001b[0m\u001b[1;33m.\u001b[0m\u001b[0mmetrics\u001b[0m\u001b[1;33m.\u001b[0m\u001b[0mf1_score\u001b[0m\u001b[1;33m(\u001b[0m\u001b[0my_test\u001b[0m\u001b[1;33m,\u001b[0m \u001b[0mnp\u001b[0m\u001b[1;33m.\u001b[0m\u001b[0margmax\u001b[0m\u001b[1;33m(\u001b[0m\u001b[0mprediction\u001b[0m\u001b[1;33m,\u001b[0m \u001b[0maxis\u001b[0m\u001b[1;33m=\u001b[0m\u001b[1;36m1\u001b[0m\u001b[1;33m)\u001b[0m\u001b[1;33m,\u001b[0m \u001b[0maverage\u001b[0m\u001b[1;33m=\u001b[0m\u001b[1;34m\"micro\"\u001b[0m\u001b[1;33m)\u001b[0m\u001b[1;33m\u001b[0m\u001b[1;33m\u001b[0m\u001b[0m\n\u001b[0m\u001b[0;32m      8\u001b[0m     \u001b[0mprint\u001b[0m\u001b[1;33m(\u001b[0m\u001b[1;34m'F1 score: {}'\u001b[0m\u001b[1;33m.\u001b[0m\u001b[0mformat\u001b[0m\u001b[1;33m(\u001b[0m\u001b[0mf1_score\u001b[0m\u001b[1;33m)\u001b[0m\u001b[1;33m)\u001b[0m\u001b[1;33m\u001b[0m\u001b[1;33m\u001b[0m\u001b[0m\n\u001b[0;32m      9\u001b[0m \u001b[1;33m\u001b[0m\u001b[0m\n",
      "\u001b[1;31mNameError\u001b[0m: name 'prediction' is not defined"
     ]
    }
   ],
   "source": [
    "model = xgb.XGBClassifier()\n",
    "model.fit(x_train, y_train)\n",
    "res = model.predict(x_test)\n",
    "res_eval(y_test, res)"
   ]
  },
  {
   "cell_type": "code",
   "execution_count": 10,
   "metadata": {},
   "outputs": [
    {
     "name": "stdout",
     "output_type": "stream",
     "text": [
      "classification report\n",
      "              precision    recall  f1-score   support\n",
      "\n",
      "           0       0.37      0.01      0.02      1746\n",
      "           1       0.61      0.23      0.33      6226\n",
      "           2       0.68      0.94      0.79     14556\n",
      "\n",
      "    accuracy                           0.67     22528\n",
      "   macro avg       0.55      0.39      0.38     22528\n",
      "weighted avg       0.64      0.67      0.60     22528\n",
      "\n",
      "confusion matrix\n",
      "[[   14   109  1623]\n",
      " [    2  1405  4819]\n",
      " [   22   779 13755]]\n",
      "F1 score: 0.6735617897727273\n"
     ]
    },
    {
     "data": {
      "image/png": "[encoded data removed]",
      "text/plain": [
       "<Figure size 432x288 with 1 Axes>"
      ]
     },
     "metadata": {
      "needs_background": "light"
     },
     "output_type": "display_data"
    }
   ],
   "source": [
    "goal = y_test\n",
    "print('classification report')\n",
    "print(classification_report(goal, res))\n",
    "print('confusion matrix')\n",
    "print(skl.metrics.confusion_matrix(goal, res))\n",
    "f1_score = skl.metrics.f1_score(goal, res, average=\"micro\")\n",
    "print('F1 score: {}'.format(f1_score))\n",
    "    \n",
    "fpr, tpr, thresholds = roc_curve(goal, res, pos_label=2)\n",
    "au_curve = auc(fpr, tpr)\n",
    "\n",
    "plt.figure(1)\n",
    "plt.plot([0, 1], [0, 1], 'k--')\n",
    "plt.plot(fpr, tpr, label='area = {:.3f}'.format(au_curve))\n",
    "plt.xlabel('False positive rate')\n",
    "plt.ylabel('True positive rate')\n",
    "plt.title('ROC curve')\n",
    "plt.legend(loc='best')\n",
    "plt.show()"
   ]
  },
  {
   "cell_type": "code",
   "execution_count": 11,
   "metadata": {},
   "outputs": [],
   "source": [
    "model.save_model('xgb_tmp.ser')"
   ]
  },
  {
   "cell_type": "code",
   "execution_count": null,
   "metadata": {},
   "outputs": [],
   "source": []
  }
 ],
 "metadata": {
  "kernelspec": {
   "display_name": "Python 3",
   "language": "python",
   "name": "python3"
  },
  "language_info": {
   "codemirror_mode": {
    "name": "ipython",
    "version": 3
   },
   "file_extension": ".py",
   "mimetype": "text/x-python",
   "name": "python",
   "nbconvert_exporter": "python",
   "pygments_lexer": "ipython3",
   "version": "3.7.6"
  }
 },
 "nbformat": 4,
 "nbformat_minor": 4
}
